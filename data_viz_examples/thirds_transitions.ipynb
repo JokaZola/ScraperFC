{
 "cells": [
  {
   "cell_type": "code",
   "execution_count": 1,
   "metadata": {},
   "outputs": [],
   "source": [
    "from   data_viz_helpers import *\n",
    "import json\n",
    "import matplotlib.pyplot as plt\n",
    "import numpy as np\n",
    "import pandas as pd\n",
    "import ScraperFC as sfc"
   ]
  },
  {
   "cell_type": "code",
   "execution_count": 2,
   "metadata": {},
   "outputs": [
    {
     "ename": "WebDriverException",
     "evalue": "Message: unknown error: net::ERR_SSL_PROTOCOL_ERROR\n  (Session info: headless chrome=92.0.4515.159)\n",
     "output_type": "error",
     "traceback": [
      "\u001b[1;31m---------------------------------------------------------------------------\u001b[0m",
      "\u001b[1;31mWebDriverException\u001b[0m                        Traceback (most recent call last)",
      "\u001b[1;32m<ipython-input-2-5a9d411659cf>\u001b[0m in \u001b[0;36m<module>\u001b[1;34m\u001b[0m\n\u001b[0;32m      3\u001b[0m \u001b[0mmid_to_att\u001b[0m \u001b[1;33m=\u001b[0m \u001b[0mpd\u001b[0m\u001b[1;33m.\u001b[0m\u001b[0mDataFrame\u001b[0m\u001b[1;33m(\u001b[0m\u001b[0mcolumns\u001b[0m\u001b[1;33m=\u001b[0m\u001b[0mcol_names\u001b[0m\u001b[1;33m)\u001b[0m\u001b[1;33m\u001b[0m\u001b[1;33m\u001b[0m\u001b[0m\n\u001b[0;32m      4\u001b[0m \u001b[1;33m\u001b[0m\u001b[0m\n\u001b[1;32m----> 5\u001b[1;33m \u001b[0mscraper\u001b[0m \u001b[1;33m=\u001b[0m \u001b[0msfc\u001b[0m\u001b[1;33m.\u001b[0m\u001b[0mWhoScored\u001b[0m\u001b[1;33m(\u001b[0m\u001b[1;33m)\u001b[0m\u001b[1;33m\u001b[0m\u001b[1;33m\u001b[0m\u001b[0m\n\u001b[0m\u001b[0;32m      6\u001b[0m \u001b[1;32mtry\u001b[0m\u001b[1;33m:\u001b[0m\u001b[1;33m\u001b[0m\u001b[1;33m\u001b[0m\u001b[0m\n\u001b[0;32m      7\u001b[0m     \u001b[0mmatch_data\u001b[0m \u001b[1;33m=\u001b[0m \u001b[0mscraper\u001b[0m\u001b[1;33m.\u001b[0m\u001b[0mscrape_match\u001b[0m\u001b[1;33m(\u001b[0m\u001b[1;34m'https://www.whoscored.com/Matches/1485202/Live/England-Premier-League-2020-2021-Southampton-Tottenham'\u001b[0m\u001b[1;33m)\u001b[0m\u001b[1;33m\u001b[0m\u001b[1;33m\u001b[0m\u001b[0m\n",
      "\u001b[1;32m~\\Anaconda3\\lib\\site-packages\\ScraperFC\\WhoScored.py\u001b[0m in \u001b[0;36m__init__\u001b[1;34m(self)\u001b[0m\n\u001b[0;32m     27\u001b[0m \u001b[1;31m#         options.add_argument('--disable-extensions')\u001b[0m\u001b[1;33m\u001b[0m\u001b[1;33m\u001b[0m\u001b[1;33m\u001b[0m\u001b[0m\n\u001b[0;32m     28\u001b[0m         \u001b[1;31m# Use proxy\u001b[0m\u001b[1;33m\u001b[0m\u001b[1;33m\u001b[0m\u001b[1;33m\u001b[0m\u001b[0m\n\u001b[1;32m---> 29\u001b[1;33m         \u001b[0mproxy\u001b[0m \u001b[1;33m=\u001b[0m \u001b[0mget_proxy\u001b[0m\u001b[1;33m(\u001b[0m\u001b[1;33m)\u001b[0m\u001b[1;33m\u001b[0m\u001b[1;33m\u001b[0m\u001b[0m\n\u001b[0m\u001b[0;32m     30\u001b[0m         \u001b[0moptions\u001b[0m\u001b[1;33m.\u001b[0m\u001b[0madd_argument\u001b[0m\u001b[1;33m(\u001b[0m\u001b[1;34m'--proxy-server=\"http={};https={}\"'\u001b[0m\u001b[1;33m.\u001b[0m\u001b[0mformat\u001b[0m\u001b[1;33m(\u001b[0m\u001b[0mproxy\u001b[0m\u001b[1;33m,\u001b[0m \u001b[0mproxy\u001b[0m\u001b[1;33m)\u001b[0m\u001b[1;33m)\u001b[0m\u001b[1;33m\u001b[0m\u001b[1;33m\u001b[0m\u001b[0m\n\u001b[0;32m     31\u001b[0m         \u001b[1;31m# don't load images\u001b[0m\u001b[1;33m\u001b[0m\u001b[1;33m\u001b[0m\u001b[1;33m\u001b[0m\u001b[0m\n",
      "\u001b[1;32m~\\Anaconda3\\lib\\site-packages\\ScraperFC\\shared_functions.py\u001b[0m in \u001b[0;36mget_proxy\u001b[1;34m()\u001b[0m\n\u001b[0;32m     96\u001b[0m         \u001b[0mdriver\u001b[0m\u001b[1;33m.\u001b[0m\u001b[0mclose\u001b[0m\u001b[1;33m(\u001b[0m\u001b[1;33m)\u001b[0m\u001b[1;33m\u001b[0m\u001b[1;33m\u001b[0m\u001b[0m\n\u001b[0;32m     97\u001b[0m         \u001b[0mdriver\u001b[0m\u001b[1;33m.\u001b[0m\u001b[0mquit\u001b[0m\u001b[1;33m(\u001b[0m\u001b[1;33m)\u001b[0m\u001b[1;33m\u001b[0m\u001b[1;33m\u001b[0m\u001b[0m\n\u001b[1;32m---> 98\u001b[1;33m         \u001b[1;32mraise\u001b[0m \u001b[0me\u001b[0m\u001b[1;33m\u001b[0m\u001b[1;33m\u001b[0m\u001b[0m\n\u001b[0m",
      "\u001b[1;32m~\\Anaconda3\\lib\\site-packages\\ScraperFC\\shared_functions.py\u001b[0m in \u001b[0;36mget_proxy\u001b[1;34m()\u001b[0m\n\u001b[0;32m     77\u001b[0m \u001b[1;33m\u001b[0m\u001b[0m\n\u001b[0;32m     78\u001b[0m     \u001b[1;32mtry\u001b[0m\u001b[1;33m:\u001b[0m\u001b[1;33m\u001b[0m\u001b[1;33m\u001b[0m\u001b[0m\n\u001b[1;32m---> 79\u001b[1;33m         \u001b[0mdriver\u001b[0m\u001b[1;33m.\u001b[0m\u001b[0mget\u001b[0m\u001b[1;33m(\u001b[0m\u001b[1;34m\"https://sslproxies.org/\"\u001b[0m\u001b[1;33m)\u001b[0m\u001b[1;33m\u001b[0m\u001b[1;33m\u001b[0m\u001b[0m\n\u001b[0m\u001b[0;32m     80\u001b[0m         \u001b[1;31m# on some machines the xpath is \"//table[@class='table table-striped table-bordered dataTable']\"???\u001b[0m\u001b[1;33m\u001b[0m\u001b[1;33m\u001b[0m\u001b[1;33m\u001b[0m\u001b[0m\n\u001b[0;32m     81\u001b[0m \u001b[1;31m#         table = driver.find_element_by_xpath(\"//table[@class='table table-striped table-bordered']\")\u001b[0m\u001b[1;33m\u001b[0m\u001b[1;33m\u001b[0m\u001b[1;33m\u001b[0m\u001b[0m\n",
      "\u001b[1;32m~\\Anaconda3\\lib\\site-packages\\selenium\\webdriver\\remote\\webdriver.py\u001b[0m in \u001b[0;36mget\u001b[1;34m(self, url)\u001b[0m\n\u001b[0;32m    331\u001b[0m         \u001b[0mLoads\u001b[0m \u001b[0ma\u001b[0m \u001b[0mweb\u001b[0m \u001b[0mpage\u001b[0m \u001b[1;32min\u001b[0m \u001b[0mthe\u001b[0m \u001b[0mcurrent\u001b[0m \u001b[0mbrowser\u001b[0m \u001b[0msession\u001b[0m\u001b[1;33m.\u001b[0m\u001b[1;33m\u001b[0m\u001b[1;33m\u001b[0m\u001b[0m\n\u001b[0;32m    332\u001b[0m         \"\"\"\n\u001b[1;32m--> 333\u001b[1;33m         \u001b[0mself\u001b[0m\u001b[1;33m.\u001b[0m\u001b[0mexecute\u001b[0m\u001b[1;33m(\u001b[0m\u001b[0mCommand\u001b[0m\u001b[1;33m.\u001b[0m\u001b[0mGET\u001b[0m\u001b[1;33m,\u001b[0m \u001b[1;33m{\u001b[0m\u001b[1;34m'url'\u001b[0m\u001b[1;33m:\u001b[0m \u001b[0murl\u001b[0m\u001b[1;33m}\u001b[0m\u001b[1;33m)\u001b[0m\u001b[1;33m\u001b[0m\u001b[1;33m\u001b[0m\u001b[0m\n\u001b[0m\u001b[0;32m    334\u001b[0m \u001b[1;33m\u001b[0m\u001b[0m\n\u001b[0;32m    335\u001b[0m     \u001b[1;33m@\u001b[0m\u001b[0mproperty\u001b[0m\u001b[1;33m\u001b[0m\u001b[1;33m\u001b[0m\u001b[0m\n",
      "\u001b[1;32m~\\Anaconda3\\lib\\site-packages\\selenium\\webdriver\\remote\\webdriver.py\u001b[0m in \u001b[0;36mexecute\u001b[1;34m(self, driver_command, params)\u001b[0m\n\u001b[0;32m    319\u001b[0m         \u001b[0mresponse\u001b[0m \u001b[1;33m=\u001b[0m \u001b[0mself\u001b[0m\u001b[1;33m.\u001b[0m\u001b[0mcommand_executor\u001b[0m\u001b[1;33m.\u001b[0m\u001b[0mexecute\u001b[0m\u001b[1;33m(\u001b[0m\u001b[0mdriver_command\u001b[0m\u001b[1;33m,\u001b[0m \u001b[0mparams\u001b[0m\u001b[1;33m)\u001b[0m\u001b[1;33m\u001b[0m\u001b[1;33m\u001b[0m\u001b[0m\n\u001b[0;32m    320\u001b[0m         \u001b[1;32mif\u001b[0m \u001b[0mresponse\u001b[0m\u001b[1;33m:\u001b[0m\u001b[1;33m\u001b[0m\u001b[1;33m\u001b[0m\u001b[0m\n\u001b[1;32m--> 321\u001b[1;33m             \u001b[0mself\u001b[0m\u001b[1;33m.\u001b[0m\u001b[0merror_handler\u001b[0m\u001b[1;33m.\u001b[0m\u001b[0mcheck_response\u001b[0m\u001b[1;33m(\u001b[0m\u001b[0mresponse\u001b[0m\u001b[1;33m)\u001b[0m\u001b[1;33m\u001b[0m\u001b[1;33m\u001b[0m\u001b[0m\n\u001b[0m\u001b[0;32m    322\u001b[0m             response['value'] = self._unwrap_value(\n\u001b[0;32m    323\u001b[0m                 response.get('value', None))\n",
      "\u001b[1;32m~\\Anaconda3\\lib\\site-packages\\selenium\\webdriver\\remote\\errorhandler.py\u001b[0m in \u001b[0;36mcheck_response\u001b[1;34m(self, response)\u001b[0m\n\u001b[0;32m    240\u001b[0m                 \u001b[0malert_text\u001b[0m \u001b[1;33m=\u001b[0m \u001b[0mvalue\u001b[0m\u001b[1;33m[\u001b[0m\u001b[1;34m'alert'\u001b[0m\u001b[1;33m]\u001b[0m\u001b[1;33m.\u001b[0m\u001b[0mget\u001b[0m\u001b[1;33m(\u001b[0m\u001b[1;34m'text'\u001b[0m\u001b[1;33m)\u001b[0m\u001b[1;33m\u001b[0m\u001b[1;33m\u001b[0m\u001b[0m\n\u001b[0;32m    241\u001b[0m             \u001b[1;32mraise\u001b[0m \u001b[0mexception_class\u001b[0m\u001b[1;33m(\u001b[0m\u001b[0mmessage\u001b[0m\u001b[1;33m,\u001b[0m \u001b[0mscreen\u001b[0m\u001b[1;33m,\u001b[0m \u001b[0mstacktrace\u001b[0m\u001b[1;33m,\u001b[0m \u001b[0malert_text\u001b[0m\u001b[1;33m)\u001b[0m\u001b[1;33m\u001b[0m\u001b[1;33m\u001b[0m\u001b[0m\n\u001b[1;32m--> 242\u001b[1;33m         \u001b[1;32mraise\u001b[0m \u001b[0mexception_class\u001b[0m\u001b[1;33m(\u001b[0m\u001b[0mmessage\u001b[0m\u001b[1;33m,\u001b[0m \u001b[0mscreen\u001b[0m\u001b[1;33m,\u001b[0m \u001b[0mstacktrace\u001b[0m\u001b[1;33m)\u001b[0m\u001b[1;33m\u001b[0m\u001b[1;33m\u001b[0m\u001b[0m\n\u001b[0m\u001b[0;32m    243\u001b[0m \u001b[1;33m\u001b[0m\u001b[0m\n\u001b[0;32m    244\u001b[0m     \u001b[1;32mdef\u001b[0m \u001b[0m_value_or_default\u001b[0m\u001b[1;33m(\u001b[0m\u001b[0mself\u001b[0m\u001b[1;33m,\u001b[0m \u001b[0mobj\u001b[0m\u001b[1;33m,\u001b[0m \u001b[0mkey\u001b[0m\u001b[1;33m,\u001b[0m \u001b[0mdefault\u001b[0m\u001b[1;33m)\u001b[0m\u001b[1;33m:\u001b[0m\u001b[1;33m\u001b[0m\u001b[1;33m\u001b[0m\u001b[0m\n",
      "\u001b[1;31mWebDriverException\u001b[0m: Message: unknown error: net::ERR_SSL_PROTOCOL_ERROR\n  (Session info: headless chrome=92.0.4515.159)\n"
     ]
    }
   ],
   "source": [
    "col_names = ['desc', 'cross_y', 'x', 'y', 'end_x', 'end_y']\n",
    "def_to_mid = pd.DataFrame(columns=col_names)\n",
    "mid_to_att = pd.DataFrame(columns=col_names)\n",
    "\n",
    "scraper = sfc.WhoScored()\n",
    "# try:\n",
    "#     match_data = scraper.scrape_match('https://www.whoscored.com/Matches/1485202/Live/England-Premier-League-2020-2021-Southampton-Tottenham')\n",
    "# except:\n",
    "#     traceback.print_exc()\n",
    "# scraper.close()\n",
    "\n",
    "# for event in match_data['matchCentreData']['events']:\n",
    "#     event_desc = event['type']['displayName']      \n",
    "#     try:\n",
    "#         m = (event['endY']-event['y']) / (event['endX']-event['x'])\n",
    "#         b = event['y'] - m*event['x']\n",
    "#     except KeyError:\n",
    "#         continue\n",
    "#     except ZeroDivisionError:\n",
    "#         continue\n",
    "#     # transition from def third to middle third\n",
    "#     if event['x']<33.3 and event['endX']>33.3 and event['endX']<66.6 and event_desc!='OffsidePass':\n",
    "#         def_to_mid = def_to_mid.append(\n",
    "#             pd.Series({\n",
    "#                 'desc': event_desc,\n",
    "#                 'cross_y': m*33.3 + b,\n",
    "#                 'x': event['x'],\n",
    "#                 'y': event['y'],\n",
    "#                 'end_x': event['endX'],\n",
    "#                 'end_y': event['endY']\n",
    "#             }),\n",
    "#             ignore_index=True\n",
    "#         )\n",
    "#     # transition from middle third to attacking third\n",
    "#     elif event['x']<66.6 and event['endX']>66.6 and event['x']>33.3 and event_desc!='OffsidePass':\n",
    "#         mid_to_att = mid_to_att.append(\n",
    "#             pd.Series({\n",
    "#                 'desc': event_desc,\n",
    "#                 'cross_y': m*66.6 + b,\n",
    "#                 'x': event['x'],\n",
    "#                 'y': event['y'],\n",
    "#                 'end_x': event['endX'],\n",
    "#                 'end_y': event['endY']\n",
    "#             }),\n",
    "#             ignore_index=True\n",
    "#         )"
   ]
  },
  {
   "cell_type": "code",
   "execution_count": null,
   "metadata": {},
   "outputs": [],
   "source": [
    "def_to_mid.shape"
   ]
  },
  {
   "cell_type": "code",
   "execution_count": null,
   "metadata": {},
   "outputs": [],
   "source": [
    "mid_to_att.shape"
   ]
  },
  {
   "cell_type": "code",
   "execution_count": null,
   "metadata": {},
   "outputs": [],
   "source": [
    "fig, ax = plt.subplots(figsize=[18,12])\n",
    "ax = plot_field(ax)\n",
    "n_bins = 100\n",
    "\n",
    "# Out of defensive third\n",
    "ax.plot([130/3, 130/3], [0, 90], color='black')\n",
    "# Create histograms bins and values for each bin\n",
    "vals, bins = np.histogram(def_to_mid['cross_y'], bins=n_bins, density=True)\n",
    "# Plot the bins as arrows indicating the attacking direction. Use the values as the lengths\n",
    "for i in range(len(vals)):\n",
    "    ax.arrow(x=130/3, y=bins[i]*90/100+(100/n_bins)/2, dx=vals[i]*1500, dy=0, width=0.3, color='blue', alpha=0.3)\n",
    "    \n",
    "# Into attacking third\n",
    "ax.plot([130*2/3, 130*2/3], [0, 90], color='black')\n",
    "vals, bins = np.histogram(mid_to_att['cross_y'], bins=n_bins, density=True)\n",
    "for i in range(len(vals)):\n",
    "    ax.arrow(x=130*2/3, y=bins[i]*90/100+(100/n_bins)/2, dx=vals[i]*1500, dy=0, width=0.3, color='red', alpha=0.3)\n",
    "\n",
    "plt.show()"
   ]
  },
  {
   "cell_type": "code",
   "execution_count": null,
   "metadata": {},
   "outputs": [],
   "source": [
    "# This is code to scrape transitions between thirds for entire seasons of match data from WhoScored\n",
    "\n",
    "# for filename in ['EPL_2021_match_data.json']:\n",
    "#     # Read data from JSON file\n",
    "#     with open(filename, 'r') as f:\n",
    "#         data = json.loads(f.read())\n",
    "#     print('{} loaded.'.format(filename))\n",
    "    \n",
    "#     # Parse out the events that are assists\n",
    "#     i = 0\n",
    "#     for item in data.items():\n",
    "#         i += 1\n",
    "#         print('{}/{}'.format(i, len(data.items())), end='\\r')\n",
    "        \n",
    "#         for event in item[1]['matchCentreData']['events']:\n",
    "#             event_desc = event['type']['displayName']\n",
    "            \n",
    "#             try:\n",
    "#                 m = (event['endY']-event['y']) / (event['endX']-event['x'])\n",
    "#                 b = event['y'] - m*event['x']\n",
    "#             except KeyError:\n",
    "#                 continue\n",
    "#             except ZeroDivisionError:\n",
    "#                 continue\n",
    "                \n",
    "#             # transition from def third to middle third\n",
    "#             if event['x']<33.3 and event['endX']>33.3 and event['endX']<66.6 and event_desc!='OffsidePass':\n",
    "#                 def_to_mid = def_to_mid.append(\n",
    "#                     pd.Series({\n",
    "#                         'desc': event_desc,\n",
    "#                         'cross_y': m*33.3 + b,\n",
    "#                         'x': event['x'],\n",
    "#                         'y': event['y'],\n",
    "#                         'end_x': event['endX'],\n",
    "#                         'end_y': event['endY']\n",
    "#                     }),\n",
    "#                     ignore_index=True\n",
    "#                 )\n",
    "#             # transition from middle third to attacking third\n",
    "#             elif event['x']<66.6 and event['endX']>66.6 and event['x']>33.3 and event_desc!='OffsidePass':\n",
    "#                 mid_to_att = mid_to_att.append(\n",
    "#                     pd.Series({\n",
    "#                         'desc': event_desc,\n",
    "#                         'cross_y': m*66.6 + b,\n",
    "#                         'x': event['x'],\n",
    "#                         'y': event['y'],\n",
    "#                         'end_x': event['endX'],\n",
    "#                         'end_y': event['endY']\n",
    "#                     }),\n",
    "#                     ignore_index=True\n",
    "#                 )\n",
    "                \n",
    "#     print('Events from {} parsed.'.format(filename))\n",
    "#     del data"
   ]
  }
 ],
 "metadata": {
  "kernelspec": {
   "display_name": "Python 3",
   "language": "python",
   "name": "python3"
  },
  "language_info": {
   "codemirror_mode": {
    "name": "ipython",
    "version": 3
   },
   "file_extension": ".py",
   "mimetype": "text/x-python",
   "name": "python",
   "nbconvert_exporter": "python",
   "pygments_lexer": "ipython3",
   "version": "3.8.3"
  }
 },
 "nbformat": 4,
 "nbformat_minor": 4
}
