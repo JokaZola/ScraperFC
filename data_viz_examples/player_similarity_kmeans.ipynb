{
 "cells": [
  {
   "cell_type": "code",
   "execution_count": 1,
   "id": "d2dcdf53-d4f4-43fe-87d7-a447b18469cd",
   "metadata": {},
   "outputs": [],
   "source": [
    "import ScraperFC as sfc\n",
    "import traceback"
   ]
  },
  {
   "cell_type": "code",
   "execution_count": 2,
   "id": "0170f2b6-0e4e-4a26-ae18-e68b6c728f19",
   "metadata": {},
   "outputs": [
    {
     "name": "stderr",
     "output_type": "stream",
     "text": [
      "C:\\Users\\Owner\\anaconda3\\lib\\site-packages\\selenium\\webdriver\\remote\\webelement.py:340: UserWarning: find_element_by_* commands are deprecated. Please use find_element() instead\n",
      "  warnings.warn(\"find_element_by_* commands are deprecated. Please use find_element() instead\")\n",
      "C:\\Users\\Owner\\anaconda3\\lib\\site-packages\\selenium\\webdriver\\remote\\webelement.py:340: UserWarning: find_element_by_* commands are deprecated. Please use find_element() instead\n",
      "  warnings.warn(\"find_element_by_* commands are deprecated. Please use find_element() instead\")\n",
      "C:\\Users\\Owner\\anaconda3\\lib\\site-packages\\selenium\\webdriver\\remote\\webelement.py:340: UserWarning: find_element_by_* commands are deprecated. Please use find_element() instead\n",
      "  warnings.warn(\"find_element_by_* commands are deprecated. Please use find_element() instead\")\n",
      "C:\\Users\\Owner\\anaconda3\\lib\\site-packages\\selenium\\webdriver\\remote\\webelement.py:340: UserWarning: find_element_by_* commands are deprecated. Please use find_element() instead\n",
      "  warnings.warn(\"find_element_by_* commands are deprecated. Please use find_element() instead\")\n",
      "C:\\Users\\Owner\\anaconda3\\lib\\site-packages\\selenium\\webdriver\\remote\\webelement.py:340: UserWarning: find_element_by_* commands are deprecated. Please use find_element() instead\n",
      "  warnings.warn(\"find_element_by_* commands are deprecated. Please use find_element() instead\")\n",
      "C:\\Users\\Owner\\anaconda3\\lib\\site-packages\\selenium\\webdriver\\remote\\webelement.py:340: UserWarning: find_element_by_* commands are deprecated. Please use find_element() instead\n",
      "  warnings.warn(\"find_element_by_* commands are deprecated. Please use find_element() instead\")\n",
      "C:\\Users\\Owner\\anaconda3\\lib\\site-packages\\selenium\\webdriver\\remote\\webelement.py:340: UserWarning: find_element_by_* commands are deprecated. Please use find_element() instead\n",
      "  warnings.warn(\"find_element_by_* commands are deprecated. Please use find_element() instead\")\n",
      "C:\\Users\\Owner\\anaconda3\\lib\\site-packages\\selenium\\webdriver\\remote\\webelement.py:340: UserWarning: find_element_by_* commands are deprecated. Please use find_element() instead\n",
      "  warnings.warn(\"find_element_by_* commands are deprecated. Please use find_element() instead\")\n",
      "C:\\Users\\Owner\\anaconda3\\lib\\site-packages\\selenium\\webdriver\\remote\\webelement.py:340: UserWarning: find_element_by_* commands are deprecated. Please use find_element() instead\n",
      "  warnings.warn(\"find_element_by_* commands are deprecated. Please use find_element() instead\")\n",
      "Traceback (most recent call last):\n",
      "  File \"<ipython-input-2-9fb5951d0108>\", line 3, in <module>\n",
      "    out = scraper.scrape_season(league='EPL', year=2021)\n",
      "  File \"C:\\Users\\Owner\\anaconda3\\lib\\site-packages\\ScraperFC\\FBRef.py\", line 764, in scrape_season\n",
      "    \"Possession\":           self.scrape_possession(year,league,normalize,player),\n",
      "  File \"C:\\Users\\Owner\\anaconda3\\lib\\site-packages\\ScraperFC\\FBRef.py\", line 628, in scrape_possession\n",
      "    df = pd.read_html(new)\n",
      "  File \"C:\\Users\\Owner\\anaconda3\\lib\\site-packages\\pandas\\util\\_decorators.py\", line 299, in wrapper\n",
      "    return func(*args, **kwargs)\n",
      "  File \"C:\\Users\\Owner\\anaconda3\\lib\\site-packages\\pandas\\io\\html.py\", line 1085, in read_html\n",
      "    return _parse(\n",
      "  File \"C:\\Users\\Owner\\anaconda3\\lib\\site-packages\\pandas\\io\\html.py\", line 893, in _parse\n",
      "    tables = p.parse_tables()\n",
      "  File \"C:\\Users\\Owner\\anaconda3\\lib\\site-packages\\pandas\\io\\html.py\", line 213, in parse_tables\n",
      "    tables = self._parse_tables(self._build_doc(), self.match, self.attrs)\n",
      "  File \"C:\\Users\\Owner\\anaconda3\\lib\\site-packages\\pandas\\io\\html.py\", line 713, in _build_doc\n",
      "    with urlopen(self.io) as f:\n",
      "  File \"C:\\Users\\Owner\\anaconda3\\lib\\site-packages\\pandas\\io\\common.py\", line 195, in urlopen\n",
      "    return urllib.request.urlopen(*args, **kwargs)\n",
      "  File \"C:\\Users\\Owner\\anaconda3\\lib\\urllib\\request.py\", line 222, in urlopen\n",
      "    return opener.open(url, data, timeout)\n",
      "  File \"C:\\Users\\Owner\\anaconda3\\lib\\urllib\\request.py\", line 531, in open\n",
      "    response = meth(req, response)\n",
      "  File \"C:\\Users\\Owner\\anaconda3\\lib\\urllib\\request.py\", line 640, in http_response\n",
      "    response = self.parent.error(\n",
      "  File \"C:\\Users\\Owner\\anaconda3\\lib\\urllib\\request.py\", line 563, in error\n",
      "    result = self._call_chain(*args)\n",
      "  File \"C:\\Users\\Owner\\anaconda3\\lib\\urllib\\request.py\", line 502, in _call_chain\n",
      "    result = func(*args)\n",
      "  File \"C:\\Users\\Owner\\anaconda3\\lib\\urllib\\request.py\", line 755, in http_error_302\n",
      "    return self.parent.open(new, timeout=req.timeout)\n",
      "  File \"C:\\Users\\Owner\\anaconda3\\lib\\urllib\\request.py\", line 525, in open\n",
      "    response = self._open(req, data)\n",
      "  File \"C:\\Users\\Owner\\anaconda3\\lib\\urllib\\request.py\", line 542, in _open\n",
      "    result = self._call_chain(self.handle_open, protocol, protocol +\n",
      "  File \"C:\\Users\\Owner\\anaconda3\\lib\\urllib\\request.py\", line 502, in _call_chain\n",
      "    result = func(*args)\n",
      "  File \"C:\\Users\\Owner\\anaconda3\\lib\\urllib\\request.py\", line 1397, in https_open\n",
      "    return self.do_open(http.client.HTTPSConnection, req,\n",
      "  File \"C:\\Users\\Owner\\anaconda3\\lib\\urllib\\request.py\", line 1358, in do_open\n",
      "    r = h.getresponse()\n",
      "  File \"C:\\Users\\Owner\\anaconda3\\lib\\http\\client.py\", line 1347, in getresponse\n",
      "    response.begin()\n",
      "  File \"C:\\Users\\Owner\\anaconda3\\lib\\http\\client.py\", line 307, in begin\n",
      "    version, status, reason = self._read_status()\n",
      "  File \"C:\\Users\\Owner\\anaconda3\\lib\\http\\client.py\", line 268, in _read_status\n",
      "    line = str(self.fp.readline(_MAXLINE + 1), \"iso-8859-1\")\n",
      "  File \"C:\\Users\\Owner\\anaconda3\\lib\\socket.py\", line 669, in readinto\n",
      "    return self._sock.recv_into(b)\n",
      "  File \"C:\\Users\\Owner\\anaconda3\\lib\\ssl.py\", line 1241, in recv_into\n",
      "    return self.read(nbytes, buffer)\n",
      "  File \"C:\\Users\\Owner\\anaconda3\\lib\\ssl.py\", line 1099, in read\n",
      "    return self._sslobj.read(len, buffer)\n",
      "KeyboardInterrupt\n"
     ]
    },
    {
     "ename": "NameError",
     "evalue": "name 'out' is not defined",
     "output_type": "error",
     "traceback": [
      "\u001b[1;31m---------------------------------------------------------------------------\u001b[0m",
      "\u001b[1;31mNameError\u001b[0m                                 Traceback (most recent call last)",
      "\u001b[1;32m<ipython-input-2-9fb5951d0108>\u001b[0m in \u001b[0;36m<module>\u001b[1;34m\u001b[0m\n\u001b[0;32m      6\u001b[0m \u001b[1;32mfinally\u001b[0m\u001b[1;33m:\u001b[0m\u001b[1;33m\u001b[0m\u001b[1;33m\u001b[0m\u001b[0m\n\u001b[0;32m      7\u001b[0m     \u001b[0mscraper\u001b[0m\u001b[1;33m.\u001b[0m\u001b[0mclose\u001b[0m\u001b[1;33m(\u001b[0m\u001b[1;33m)\u001b[0m\u001b[1;33m\u001b[0m\u001b[1;33m\u001b[0m\u001b[0m\n\u001b[1;32m----> 8\u001b[1;33m     \u001b[0mout\u001b[0m\u001b[1;33m\u001b[0m\u001b[1;33m\u001b[0m\u001b[0m\n\u001b[0m",
      "\u001b[1;31mNameError\u001b[0m: name 'out' is not defined"
     ]
    }
   ],
   "source": [
    "scraper = sfc.FBRef()\n",
    "try:\n",
    "    out = scraper.scrape_season(league='EPL', year=2021)\n",
    "except:\n",
    "    traceback.print_exc()\n",
    "finally:\n",
    "    scraper.close()\n",
    "    out"
   ]
  },
  {
   "cell_type": "markdown",
   "id": "fc9b1dab-2c1b-43bf-8a0c-ced9a8300b64",
   "metadata": {},
   "source": [
    "# Aggregate all of the dataframes into one"
   ]
  },
  {
   "cell_type": "code",
   "execution_count": null,
   "id": "a14773a9-8dce-43a7-88fb-4856c627c246",
   "metadata": {},
   "outputs": [],
   "source": []
  }
 ],
 "metadata": {
  "kernelspec": {
   "display_name": "Python 3",
   "language": "python",
   "name": "python3"
  },
  "language_info": {
   "codemirror_mode": {
    "name": "ipython",
    "version": 3
   },
   "file_extension": ".py",
   "mimetype": "text/x-python",
   "name": "python",
   "nbconvert_exporter": "python",
   "pygments_lexer": "ipython3",
   "version": "3.8.8"
  }
 },
 "nbformat": 4,
 "nbformat_minor": 5
}
