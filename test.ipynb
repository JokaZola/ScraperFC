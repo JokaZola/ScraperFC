{
 "cells": [
  {
   "cell_type": "code",
   "execution_count": 2,
   "metadata": {
    "scrolled": true
   },
   "outputs": [
    {
     "name": "stdout",
     "output_type": "stream",
     "text": [
      "running sdist\n",
      "running egg_info\n",
      "creating ScraperFC.egg-info\n",
      "writing ScraperFC.egg-info\\PKG-INFO\n",
      "writing dependency_links to ScraperFC.egg-info\\dependency_links.txt\n",
      "writing top-level names to ScraperFC.egg-info\\top_level.txt\n",
      "writing manifest file 'ScraperFC.egg-info\\SOURCES.txt'\n",
      "reading manifest file 'ScraperFC.egg-info\\SOURCES.txt'\n",
      "writing manifest file 'ScraperFC.egg-info\\SOURCES.txt'\n",
      "running check\n",
      "creating ScraperFC-0.0.1\n",
      "creating ScraperFC-0.0.1\\ScraperFC.egg-info\n",
      "copying files to ScraperFC-0.0.1...\n",
      "copying README.md -> ScraperFC-0.0.1\n",
      "copying setup.py -> ScraperFC-0.0.1\n",
      "copying ScraperFC.egg-info\\PKG-INFO -> ScraperFC-0.0.1\\ScraperFC.egg-info\n",
      "copying ScraperFC.egg-info\\SOURCES.txt -> ScraperFC-0.0.1\\ScraperFC.egg-info\n",
      "copying ScraperFC.egg-info\\dependency_links.txt -> ScraperFC-0.0.1\\ScraperFC.egg-info\n",
      "copying ScraperFC.egg-info\\top_level.txt -> ScraperFC-0.0.1\\ScraperFC.egg-info\n",
      "Writing ScraperFC-0.0.1\\setup.cfg\n",
      "creating dist\n",
      "Creating tar archive\n",
      "removing 'ScraperFC-0.0.1' (and everything under it)\n",
      "running bdist_wheel\n",
      "running build\n",
      "installing to build\\bdist.win-amd64\\wheel\n",
      "running install\n",
      "running install_egg_info\n",
      "Copying ScraperFC.egg-info to build\\bdist.win-amd64\\wheel\\.\\ScraperFC-0.0.1-py3.8.egg-info\n",
      "running install_scripts\n",
      "adding license file \"LICENSE\" (matched pattern \"LICEN[CS]E*\")\n",
      "creating build\\bdist.win-amd64\\wheel\\ScraperFC-0.0.1.dist-info\\WHEEL\n",
      "creating 'dist\\ScraperFC-0.0.1-py3-none-any.whl' and adding 'build\\bdist.win-amd64\\wheel' to it\n",
      "adding 'ScraperFC-0.0.1.dist-info/LICENSE'\n",
      "adding 'ScraperFC-0.0.1.dist-info/METADATA'\n",
      "adding 'ScraperFC-0.0.1.dist-info/WHEEL'\n",
      "adding 'ScraperFC-0.0.1.dist-info/top_level.txt'\n",
      "adding 'ScraperFC-0.0.1.dist-info/RECORD'\n",
      "removing build\\bdist.win-amd64\\wheel\n"
     ]
    },
    {
     "name": "stderr",
     "output_type": "stream",
     "text": [
      "warning: check: missing required meta-data: url\n",
      "\n"
     ]
    }
   ],
   "source": [
    "!python setup.py sdist bdist_wheel"
   ]
  }
 ],
 "metadata": {
  "kernelspec": {
   "display_name": "Python 3",
   "language": "python",
   "name": "python3"
  },
  "language_info": {
   "codemirror_mode": {
    "name": "ipython",
    "version": 3
   },
   "file_extension": ".py",
   "mimetype": "text/x-python",
   "name": "python",
   "nbconvert_exporter": "python",
   "pygments_lexer": "ipython3",
   "version": "3.8.3"
  }
 },
 "nbformat": 4,
 "nbformat_minor": 4
}
