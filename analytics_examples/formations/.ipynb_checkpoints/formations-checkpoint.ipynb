{
 "cells": [
  {
   "cell_type": "code",
   "execution_count": 39,
   "id": "c12778b9",
   "metadata": {},
   "outputs": [],
   "source": [
    "import json\n",
    "import pandas as pd\n",
    "import matplotlib.pyplot as plt\n",
    "from ScraperFC import ClubElo"
   ]
  },
  {
   "cell_type": "markdown",
   "id": "2ca18e8c",
   "metadata": {},
   "source": [
    "# Load data and put into a Pandas dataframe\n",
    "\n",
    "The JSON files used in this notebook are available on [Google Drive](https://drive.google.com/drive/folders/1LhW3wcG5uoAAHcgPHRcJYmIQaMY9GlRI). They have been pre-scraped using the [WhoScored](https://www.whoscored.com/) module from [ScraperFC](https://github.com/oseymour/ScraperFC)."
   ]
  },
  {
   "cell_type": "code",
   "execution_count": 44,
   "id": "9011c37f",
   "metadata": {},
   "outputs": [
    {
     "name": "stdout",
     "output_type": "stream",
     "text": [
      "Parsing data for Bundesliga\n"
     ]
    }
   ],
   "source": [
    "datafiles = [\n",
    "#     'Argentina_Liga_Profesional_2021_match_data.json', # not on clubelo\n",
    "#     'Brasileirao_2021_match_data.json', # not on clubelo\n",
    "    'Bundesliga_2021_match_data.json',\n",
    "    'Bundesliga_II_2021_match_data.json',\n",
    "    'EFL_Championship_2021_match_data.json',\n",
    "#     'EFL1_2021_match_data.json', # not on clubelo\n",
    "#     'EFL2_2021_match_data.json', # not on clubelo\n",
    "    'EPL_2021_match_data.json',\n",
    "    'Eredivisie_2021_match_data.json',\n",
    "    'Jupiler_Pro_League_2021_match_data.json',\n",
    "    'La_Liga_2021_match_data.json',\n",
    "    'Liga_Nos_2021_match_data.json',\n",
    "    'Ligue_1_2021_match_data.json',\n",
    "#     'MLS_2021_match_data.json', # not on clubelo\n",
    "    'Russian_Premier_League_2021_match_data.json',\n",
    "    'Serie_A_2021_match_data.json',\n",
    "    'Super_Lig_2021_match_data.json',\n",
    "]\n",
    "df = pd.DataFrame()\n",
    "\n",
    "for datafile in datafiles:\n",
    "    \n",
    "    league_name = datafile.split('_2021')[0].replace('_',' ')\n",
    "    \n",
    "    print('Parsing data for {}'.format(league_name))\n",
    "    with open(datafile,'r') as f:\n",
    "        match_data = json.loads(f.read())\n",
    "        \n",
    "    break\n",
    "#     del match_data"
   ]
  },
  {
   "cell_type": "code",
   "execution_count": null,
   "id": "23592b04",
   "metadata": {},
   "outputs": [
    {
     "name": "stdout",
     "output_type": "stream",
     "text": [
      "1/306\r"
     ]
    },
    {
     "name": "stderr",
     "output_type": "stream",
     "text": [
      "<ipython-input-58-86145cc99dea>:18: DeprecationWarning: The default dtype for empty Series will be 'object' instead of 'float64' in a future version. Specify a dtype explicitly to silence this warning.\n",
      "  new_row = pd.Series()\n"
     ]
    },
    {
     "name": "stdout",
     "output_type": "stream",
     "text": [
      "158/306\r"
     ]
    }
   ],
   "source": [
    "team_names = {\n",
    "    'RBL': 'RBLeipzig',\n",
    "    'Werder Bremen': 'Werder',\n",
    "    'FC Koln': 'Koeln',\n",
    "    'Borussia M.Gladbach': 'Gladbach',\n",
    "    'Eintracht Frankfurt': 'Frankfurt',\n",
    "    'Borussia Dortmund': 'Dortmund',\n",
    "    'Union Berlin': 'UnionBerlin',\n",
    "    'Arminia Bielefeld': 'Bielefeld',\n",
    "    'Hertha Berlin': 'Hertha'\n",
    "}\n",
    "\n",
    "df = pd.DataFrame()\n",
    "for i, match in enumerate(match_data.values()):\n",
    "    \n",
    "    print('{}/{}'.format(i+1, len(match_data.values())), end='\\r')\n",
    "    \n",
    "    new_row = pd.Series(dtype=object)\n",
    "    new_row['League'] = league_name\n",
    "    # team names\n",
    "    home_team = match['matchCentreData']['home']['name']\n",
    "    away_team = match['matchCentreData']['away']['name']\n",
    "    new_row['Home team'] = home_team\n",
    "    new_row['Away team'] = away_team\n",
    "    # ELO scores\n",
    "    match_date = match['matchCentreData']['startDate'].split('T')[0]\n",
    "    home_elo = ClubElo().scrape_team_on_date(home_team, match_date)\n",
    "    away_elo = ClubElo().scrape_team_on_date(away_team, match_date)\n",
    "    if home_elo == -1:\n",
    "        home_elo = ClubElo().scrape_team_on_date(team_names[home_team], match_date)\n",
    "    if away_elo == -1:\n",
    "        away_elo = ClubElo().scrape_team_on_date(team_names[away_team], match_date)\n",
    "    assert home_elo!=-1 and away_elo!=-1\n",
    "    new_row['Home ELO'] =  home_elo\n",
    "    new_row['Away ELO'] = away_elo\n",
    "    # formations\n",
    "    new_row['Home formation'] = match['matchCentreData']['home']['formations'][0]['formationName']\n",
    "    new_row['Away formation'] = match['matchCentreData']['away']['formations'][0]['formationName']\n",
    "    # score and result\n",
    "    score = match['matchCentreData']['score']\n",
    "    home_goals = int(score.split(' : ')[0])\n",
    "    away_goals = int(score.split(' : ')[1])\n",
    "    new_row['Home goals'] = home_goals\n",
    "    new_row['Away goals'] = away_goals\n",
    "    if home_goals > away_goals: # options are HW (home win), AW (away win), D (draw)\n",
    "        new_row['Result'] = 'hw'\n",
    "    elif home_goals < away_goals:\n",
    "        new_row['Result'] = 'aw'\n",
    "    else:\n",
    "        new_row['Result'] = 'd'\n",
    "        \n",
    "    df = df.append(new_row, ignore_index=True)"
   ]
  },
  {
   "cell_type": "code",
   "execution_count": null,
   "id": "3e348955",
   "metadata": {},
   "outputs": [],
   "source": [
    "df"
   ]
  },
  {
   "cell_type": "markdown",
   "id": "3c7c194e",
   "metadata": {},
   "source": [
    "# Win rate vs. other formations"
   ]
  },
  {
   "cell_type": "markdown",
   "id": "773e0ab0",
   "metadata": {},
   "source": [
    "# Goals scored against other formations"
   ]
  },
  {
   "cell_type": "markdown",
   "id": "bfeada21",
   "metadata": {},
   "source": [
    "# Goals conceded against other formations"
   ]
  }
 ],
 "metadata": {
  "kernelspec": {
   "display_name": "Python 3",
   "language": "python",
   "name": "python3"
  },
  "language_info": {
   "codemirror_mode": {
    "name": "ipython",
    "version": 3
   },
   "file_extension": ".py",
   "mimetype": "text/x-python",
   "name": "python",
   "nbconvert_exporter": "python",
   "pygments_lexer": "ipython3",
   "version": "3.8.8"
  }
 },
 "nbformat": 4,
 "nbformat_minor": 5
}
