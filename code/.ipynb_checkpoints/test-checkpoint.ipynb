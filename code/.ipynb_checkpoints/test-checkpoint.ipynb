{
 "cells": [
  {
   "cell_type": "code",
   "execution_count": 1,
   "metadata": {},
   "outputs": [],
   "source": [
    "import ScraperFC as sfc\n",
    "import traceback\n",
    "import pandas as pd\n",
    "pd.options.display.max_columns = 50\n",
    "\n",
    "try:\n",
    "    scraper = sfc.FBRef()\n",
    "    df = scraper.scrape_passing(2019, \"EPL\", normalize=True, player=True)\n",
    "    scraper.close()\n",
    "except:\n",
    "    traceback.print_exc()\n",
    "    scraper.close()"
   ]
  },
  {
   "cell_type": "code",
   "execution_count": 3,
   "metadata": {},
   "outputs": [
    {
     "data": {
      "text/plain": [
       "Unnamed: 0_level_0   Rk         float64\n",
       "Unnamed: 1_level_0   Player      object\n",
       "Unnamed: 2_level_0   Nation      object\n",
       "Unnamed: 3_level_0   Pos         object\n",
       "Unnamed: 4_level_0   Squad       object\n",
       "Unnamed: 5_level_0   Age        float64\n",
       "Unnamed: 6_level_0   Born       float64\n",
       "Unnamed: 7_level_0   90s        float64\n",
       "Total                Cmp        float64\n",
       "                     Att        float64\n",
       "                     Cmp%       float64\n",
       "                     TotDist    float64\n",
       "                     PrgDist    float64\n",
       "Short                Cmp        float64\n",
       "                     Att        float64\n",
       "                     Cmp%       float64\n",
       "Medium               Cmp        float64\n",
       "                     Att        float64\n",
       "                     Cmp%       float64\n",
       "Long                 Cmp        float64\n",
       "                     Att        float64\n",
       "                     Cmp%       float64\n",
       "Unnamed: 22_level_0  Ast        float64\n",
       "Unnamed: 23_level_0  xA         float64\n",
       "Unnamed: 24_level_0  A-xA       float64\n",
       "Unnamed: 25_level_0  KP         float64\n",
       "Unnamed: 26_level_0  1/3        float64\n",
       "Unnamed: 27_level_0  PPA        float64\n",
       "Unnamed: 28_level_0  CrsPA      float64\n",
       "Unnamed: 29_level_0  Prog       float64\n",
       "dtype: object"
      ]
     },
     "execution_count": 3,
     "metadata": {},
     "output_type": "execute_result"
    }
   ],
   "source": [
    "df.dtypes"
   ]
  }
 ],
 "metadata": {
  "kernelspec": {
   "display_name": "Python 3",
   "language": "python",
   "name": "python3"
  },
  "language_info": {
   "codemirror_mode": {
    "name": "ipython",
    "version": 3
   },
   "file_extension": ".py",
   "mimetype": "text/x-python",
   "name": "python",
   "nbconvert_exporter": "python",
   "pygments_lexer": "ipython3",
   "version": "3.8.3"
  }
 },
 "nbformat": 4,
 "nbformat_minor": 4
}
