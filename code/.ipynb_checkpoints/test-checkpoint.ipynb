{
 "cells": [
  {
   "cell_type": "code",
   "execution_count": 1,
   "metadata": {},
   "outputs": [],
   "source": [
    "import ScraperFC as sfc\n",
    "import traceback\n",
    "import pandas as pd\n",
    "pd.options.display.max_columns = 50\n",
    "from IPython.display import clear_output\n",
    "\n",
    "scraper = sfc.Understat()\n",
    "\n",
    "# error = False\n",
    "# for yr in range(1988,2021):\n",
    "#     for lg in ['EPL','La Liga','Bundesliga','Serie A','Ligue 1']:\n",
    "\n",
    "try:\n",
    "#     out = scraper.scrape_situations(2019, \"La Liga\")\n",
    "    out = scraper.scrape_formations(2020, \"EPL\")\n",
    "    scraper.close()\n",
    "except:  \n",
    "    traceback.print_exc()\n",
    "    scraper.close()\n",
    "#     error = True\n",
    "#     break\n",
    "\n",
    "#     if error:\n",
    "#         break"
   ]
  },
  {
   "cell_type": "code",
   "execution_count": 2,
   "metadata": {},
   "outputs": [
    {
     "data": {
      "text/plain": [
       "Formation    5-4-1\n",
       "Min           1998\n",
       "Sh             214\n",
       "G               19\n",
       "ShA            336\n",
       "GA              28\n",
       "xG           16.33\n",
       "xGA          41.28\n",
       "xGD         -24.95\n",
       "xG90          0.74\n",
       "xGA90         1.86\n",
       "Name: 0, dtype: object"
      ]
     },
     "execution_count": 2,
     "metadata": {},
     "output_type": "execute_result"
    }
   ],
   "source": [
    "out[\"Newcastle_United\"][\"5-4-1\"]"
   ]
  }
 ],
 "metadata": {
  "kernelspec": {
   "display_name": "Python 3",
   "language": "python",
   "name": "python3"
  },
  "language_info": {
   "codemirror_mode": {
    "name": "ipython",
    "version": 3
   },
   "file_extension": ".py",
   "mimetype": "text/x-python",
   "name": "python",
   "nbconvert_exporter": "python",
   "pygments_lexer": "ipython3",
   "version": "3.8.3"
  }
 },
 "nbformat": 4,
 "nbformat_minor": 4
}
