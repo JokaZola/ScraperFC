{
 "cells": [
  {
   "cell_type": "code",
   "execution_count": 1,
   "metadata": {},
   "outputs": [],
   "source": [
    "from ScraperFC import "
   ]
  },
  {
   "cell_type": "code",
   "execution_count": null,
   "metadata": {},
   "outputs": [],
   "source": [
    "import pandas as pd\n",
    "pd.set_option('display.max_columns', 30)\n",
    "import ScraperFC as sfc\n",
    "import pkgutil\n",
    "for sub in pkgutil.iter_modules(sfc.__path__):\n",
    "    print(sub.name)\n",
    "# from ScraperFC import FBRef"
   ]
  },
  {
   "cell_type": "code",
   "execution_count": null,
   "metadata": {},
   "outputs": [],
   "source": [
    "try:\n",
    "    scraper = sfc.FBRef.FBRef()\n",
    "#     scraper = FBRef()\n",
    "    lg = 'EPL'\n",
    "    s,v = scraper.scrape_adv_gk(2020,lg,False)\n",
    "\n",
    "#     scraper = sfc.Understat()\n",
    "#     v = scraper.scrape_matches(2019,False)\n",
    "\n",
    "    scraper.close()\n",
    "except(e):\n",
    "    print(e)\n",
    "    scraper.close()"
   ]
  },
  {
   "cell_type": "code",
   "execution_count": null,
   "metadata": {},
   "outputs": [],
   "source": []
  }
 ],
 "metadata": {
  "kernelspec": {
   "display_name": "Python 3",
   "language": "python",
   "name": "python3"
  },
  "language_info": {
   "codemirror_mode": {
    "name": "ipython",
    "version": 3
   },
   "file_extension": ".py",
   "mimetype": "text/x-python",
   "name": "python",
   "nbconvert_exporter": "python",
   "pygments_lexer": "ipython3",
   "version": "3.8.3"
  }
 },
 "nbformat": 4,
 "nbformat_minor": 4
}
