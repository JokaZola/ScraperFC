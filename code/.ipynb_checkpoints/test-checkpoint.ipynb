{
 "cells": [
  {
   "cell_type": "code",
   "execution_count": 1,
   "metadata": {},
   "outputs": [],
   "source": [
    "import traceback\n",
    "import ScraperFC as sfc"
   ]
  },
  {
   "cell_type": "code",
   "execution_count": 2,
   "metadata": {
    "scrolled": false
   },
   "outputs": [
    {
     "name": "stdout",
     "output_type": "stream",
     "text": [
      "Scraping match data for match 10/380 in the 2020-2021 Ligue 1 season from https://www.whoscored.com/Matches/1464499/Live/France-Ligue-1-2020-2021-Monaco-Dijon                                                                                                                                                                                                                                                                                                                                                      \r"
     ]
    },
    {
     "name": "stderr",
     "output_type": "stream",
     "text": [
      "Traceback (most recent call last):\n",
      "  File \"<ipython-input-2-6553dc21db77>\", line 3, in <module>\n",
      "    _ = scraper.scrape_matches(2021, 'Ligue 1')\n",
      "  File \"C:\\Users\\Owner\\Documents\\GitHub\\ScraperFC\\code\\ScraperFC\\WhoScored.py\", line 160, in scrape_matches\n",
      "    self.close()\n",
      "  File \"C:\\Users\\Owner\\Documents\\GitHub\\ScraperFC\\code\\ScraperFC\\WhoScored.py\", line 40, in close\n",
      "    self.driver.close()\n",
      "  File \"C:\\Users\\Owner\\anaconda3\\lib\\site-packages\\selenium\\webdriver\\remote\\webdriver.py\", line 688, in close\n",
      "    self.execute(Command.CLOSE)\n",
      "  File \"C:\\Users\\Owner\\anaconda3\\lib\\site-packages\\selenium\\webdriver\\remote\\webdriver.py\", line 319, in execute\n",
      "    response = self.command_executor.execute(driver_command, params)\n",
      "  File \"C:\\Users\\Owner\\anaconda3\\lib\\site-packages\\selenium\\webdriver\\remote\\remote_connection.py\", line 374, in execute\n",
      "    return self._request(command_info[0], url, body=data)\n",
      "  File \"C:\\Users\\Owner\\anaconda3\\lib\\site-packages\\selenium\\webdriver\\remote\\remote_connection.py\", line 397, in _request\n",
      "    resp = self._conn.request(method, url, body=body, headers=headers)\n",
      "  File \"C:\\Users\\Owner\\anaconda3\\lib\\site-packages\\urllib3\\request.py\", line 75, in request\n",
      "    return self.request_encode_url(\n",
      "  File \"C:\\Users\\Owner\\anaconda3\\lib\\site-packages\\urllib3\\request.py\", line 97, in request_encode_url\n",
      "    return self.urlopen(method, url, **extra_kw)\n",
      "  File \"C:\\Users\\Owner\\anaconda3\\lib\\site-packages\\urllib3\\poolmanager.py\", line 336, in urlopen\n",
      "    response = conn.urlopen(method, u.request_uri, **kw)\n",
      "  File \"C:\\Users\\Owner\\anaconda3\\lib\\site-packages\\urllib3\\connectionpool.py\", line 670, in urlopen\n",
      "    httplib_response = self._make_request(\n",
      "  File \"C:\\Users\\Owner\\anaconda3\\lib\\site-packages\\urllib3\\connectionpool.py\", line 426, in _make_request\n",
      "    six.raise_from(e, None)\n",
      "  File \"<string>\", line 3, in raise_from\n",
      "  File \"C:\\Users\\Owner\\anaconda3\\lib\\site-packages\\urllib3\\connectionpool.py\", line 421, in _make_request\n",
      "    httplib_response = conn.getresponse()\n",
      "  File \"C:\\Users\\Owner\\anaconda3\\lib\\http\\client.py\", line 1332, in getresponse\n",
      "    response.begin()\n",
      "  File \"C:\\Users\\Owner\\anaconda3\\lib\\http\\client.py\", line 303, in begin\n",
      "    version, status, reason = self._read_status()\n",
      "  File \"C:\\Users\\Owner\\anaconda3\\lib\\http\\client.py\", line 264, in _read_status\n",
      "    line = str(self.fp.readline(_MAXLINE + 1), \"iso-8859-1\")\n",
      "  File \"C:\\Users\\Owner\\anaconda3\\lib\\socket.py\", line 669, in readinto\n",
      "    return self._sock.recv_into(b)\n",
      "KeyboardInterrupt\n"
     ]
    }
   ],
   "source": [
    "scraper = sfc.WhoScored()\n",
    "try:\n",
    "    _ = scraper.scrape_matches(2021, 'Ligue 1')\n",
    "except:\n",
    "    traceback.print_exc()\n",
    "# scraper.close()"
   ]
  },
  {
   "cell_type": "code",
   "execution_count": null,
   "metadata": {},
   "outputs": [],
   "source": []
  }
 ],
 "metadata": {
  "kernelspec": {
   "display_name": "Python 3",
   "language": "python",
   "name": "python3"
  },
  "language_info": {
   "codemirror_mode": {
    "name": "ipython",
    "version": 3
   },
   "file_extension": ".py",
   "mimetype": "text/x-python",
   "name": "python",
   "nbconvert_exporter": "python",
   "pygments_lexer": "ipython3",
   "version": "3.8.3"
  }
 },
 "nbformat": 4,
 "nbformat_minor": 4
}
