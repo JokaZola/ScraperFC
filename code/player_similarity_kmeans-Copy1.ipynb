{
 "cells": [
  {
   "cell_type": "code",
   "execution_count": 17,
   "id": "d2dcdf53-d4f4-43fe-87d7-a447b18469cd",
   "metadata": {},
   "outputs": [],
   "source": [
    "import numpy as np\n",
    "import pandas as pd\n",
    "import ScraperFC as sfc\n",
    "import traceback"
   ]
  },
  {
   "cell_type": "code",
   "execution_count": 2,
   "id": "0170f2b6-0e4e-4a26-ae18-e68b6c728f19",
   "metadata": {},
   "outputs": [
    {
     "name": "stdout",
     "output_type": "stream",
     "text": [
      "Scraping 2021 EPL league table\n",
      "Scraping 2021 EPL standard stats\n",
      "Scraping 2021 EPL goalkeeping stats\n",
      "Scraping 2021 EPL advanced goalkeeping stats\n",
      "Scraping 2021 EPL shooting stats\n",
      "Scraping 2021 EPL passing stats\n",
      "Scraping 2021 EPL passing type stats\n",
      "Scraping 2021 EPL goal and shot creation stats\n",
      "Scraping 2021 EPL defending stats\n",
      "Scraping 2021 EPL possession stats\n",
      "Scraping 2021 EPL playing time stats\n",
      "Scraping 2021 EPL miscellaneous stats\n"
     ]
    }
   ],
   "source": [
    "scraper = sfc.FBRef()\n",
    "try:\n",
    "    out = scraper.scrape_season(league='EPL', year=2021, normalize=True, player=True)\n",
    "except:\n",
    "    traceback.print_exc()\n",
    "finally:\n",
    "    scraper.close()\n",
    "    out"
   ]
  },
  {
   "cell_type": "markdown",
   "id": "fc9b1dab-2c1b-43bf-8a0c-ced9a8300b64",
   "metadata": {},
   "source": [
    "# Aggregate all of the dataframes into one"
   ]
  },
  {
   "cell_type": "code",
   "execution_count": 41,
   "id": "25709f37",
   "metadata": {},
   "outputs": [
    {
     "name": "stdout",
     "output_type": "stream",
     "text": [
      "524\n",
      "(532, 26)\n",
      "Shooting\n"
     ]
    },
    {
     "ename": "AssertionError",
     "evalue": "",
     "output_type": "error",
     "traceback": [
      "\u001b[1;31m---------------------------------------------------------------------------\u001b[0m",
      "\u001b[1;31mAssertionError\u001b[0m                            Traceback (most recent call last)",
      "\u001b[1;32m<ipython-input-41-dd6e922a89b8>\u001b[0m in \u001b[0;36m<module>\u001b[1;34m\u001b[0m\n\u001b[0;32m     16\u001b[0m     \u001b[0mtemp_df\u001b[0m \u001b[1;33m=\u001b[0m \u001b[0mout\u001b[0m\u001b[1;33m[\u001b[0m\u001b[0mkey\u001b[0m\u001b[1;33m]\u001b[0m\u001b[1;33m.\u001b[0m\u001b[0mcopy\u001b[0m\u001b[1;33m(\u001b[0m\u001b[1;33m)\u001b[0m\u001b[1;33m\u001b[0m\u001b[1;33m\u001b[0m\u001b[0m\n\u001b[0;32m     17\u001b[0m     \u001b[0mprint\u001b[0m\u001b[1;33m(\u001b[0m\u001b[0mkey\u001b[0m\u001b[1;33m)\u001b[0m\u001b[1;33m\u001b[0m\u001b[1;33m\u001b[0m\u001b[0m\n\u001b[1;32m---> 18\u001b[1;33m     \u001b[1;32massert\u001b[0m \u001b[0mlen\u001b[0m\u001b[1;33m(\u001b[0m\u001b[0mnp\u001b[0m\u001b[1;33m.\u001b[0m\u001b[0munique\u001b[0m\u001b[1;33m(\u001b[0m\u001b[0mtemp_df\u001b[0m\u001b[1;33m[\u001b[0m\u001b[1;33m(\u001b[0m\u001b[1;34m'Unnamed: 1_level_0'\u001b[0m\u001b[1;33m,\u001b[0m \u001b[1;34m'Player'\u001b[0m\u001b[1;33m)\u001b[0m\u001b[1;33m]\u001b[0m\u001b[1;33m)\u001b[0m\u001b[1;33m)\u001b[0m \u001b[1;33m==\u001b[0m \u001b[0mtemp_df\u001b[0m\u001b[1;33m.\u001b[0m\u001b[0mshape\u001b[0m\u001b[1;33m[\u001b[0m\u001b[1;36m0\u001b[0m\u001b[1;33m]\u001b[0m\u001b[1;33m\u001b[0m\u001b[1;33m\u001b[0m\u001b[0m\n\u001b[0m\u001b[0;32m     19\u001b[0m \u001b[1;33m\u001b[0m\u001b[0m\n\u001b[0;32m     20\u001b[0m     \u001b[1;32mif\u001b[0m \u001b[0mkey\u001b[0m \u001b[1;33m==\u001b[0m \u001b[1;34m'Playing Time'\u001b[0m\u001b[1;33m:\u001b[0m\u001b[1;33m\u001b[0m\u001b[1;33m\u001b[0m\u001b[0m\n",
      "\u001b[1;31mAssertionError\u001b[0m: "
     ]
    }
   ],
   "source": [
    "keys = [\n",
    "    'Shooting', \n",
    "    'Passing', \n",
    "    'Pass Types', \n",
    "    'GCA', \n",
    "    'Defensive', \n",
    "    'Possession', \n",
    "    'Misc', \n",
    "    'Playing Time'\n",
    "]\n",
    "df = out['Standard']\n",
    "print(len(np.unique(df[('Unnamed: 1_level_0', 'Player')])))\n",
    "print(df.shape)\n",
    "\n",
    "for key in keys:\n",
    "    temp_df = out[key].copy()\n",
    "    \n",
    "    # handle repeat players\n",
    "    \n",
    "    if key == 'Playing Time':\n",
    "        for player in temp_df[('Unnamed: 1_level_0', 'Player')].values:\n",
    "            player_idx = temp_df[temp_df[('Unnamed: 1_level_0','Player')]==player].index\n",
    "            if len(player_idx) > 1:\n",
    "                temp_df.loc[player_idx[0],:] = temp_df.loc[player_idx,:].sum(axis=0)\n",
    "                temp_df.drop(index=player_idx[1], inplace=True)\n",
    "                player_idx = player_idx[0]\n",
    "            \n",
    "            if player not in df[('Unnamed: 1_level_0', 'Player')].values:\n",
    "                temp_df.drop(index=player_idx, inplace=True)\n",
    "        print(temp_df.shape)\n",
    "    df = df.merge(temp_df)\n",
    "\n",
    "print(df.shape)"
   ]
  },
  {
   "cell_type": "code",
   "execution_count": 10,
   "id": "c65b59df",
   "metadata": {},
   "outputs": [
    {
     "name": "stdout",
     "output_type": "stream",
     "text": [
      "Reece Hannam\n",
      "Kyle Alex John\n",
      "Florin Andone\n",
      "Faustino Anjorin\n",
      "Ryan Astley\n",
      "Miguel Azeez\n",
      "Jamal Baptiste\n",
      "Adrian Bernabe\n",
      "Nathan Bishop\n",
      "Mateusz Bogusz\n",
      "Harry Boyes\n",
      "Jarrad Branthwaite\n",
      "Zak Brunt\n",
      "Hugo Bueno\n",
      "Moisés Caicedo\n",
      "Jake Cain\n",
      "Elia Caprile\n",
      "Oliver Casey\n",
      "Kgagelo Chauke\n",
      "Cyrus Christie\n",
      "Leighton Clarkson\n",
      "Conor Coventry\n",
      "Charlie Cresswell\n",
      "Luke Cundle\n",
      "Vontae Daley Campbell\n",
      "Alfie Devine\n",
      "Thomas Doyle\n",
      "Cody Drameh\n",
      "Anthony Driscoll-Glennon\n",
      "Björn Engels\n",
      "Fabricio\n",
      "Gedson Fernandes\n",
      "Will Ferry\n",
      "Ryan Finnigan\n",
      "Shane Flynn\n",
      "Wes Foderingham\n",
      "Taylor Gardner-Hickman\n",
      "Joe Gelhardt\n",
      "Mark Gillespie\n",
      "Claudio Gomes\n",
      "Anthony Gomez Mancini\n",
      "Mace Goodridge\n",
      "Kyron Gordon\n",
      "Lee Grant\n",
      "Sam Greenwood\n",
      "Frederic Guilbert\n",
      "Joe Hart\n",
      "Taylor Harwood-Bellis\n",
      "Kaine Hayden\n",
      "Tom Heaton\n",
      "Stephen Henderson\n",
      "Wayne Hennessey\n",
      "Liam Hughes\n",
      "Frederik Ibsen\n",
      "Ryan Inniss\n",
      "Tim Iroegbunam\n",
      "Sylvester Jasper\n",
      "Jack Jenkins\n",
      "Teddy Jenks\n",
      "Stefan Johansen\n",
      "Nile John\n",
      "Felix Kalu Nmecha\n",
      "Michał Karbownik\n",
      "Kaine Kessler\n",
      "Toby King\n",
      "Cédric Kipré\n",
      "Anthony Knockaert\n",
      "Billy Koumetio\n",
      "Daniel Langley\n",
      "Harry Lewis\n",
      "Valentino Livramento\n",
      "Andy Lonergan\n",
      "Nigel Lonwijk\n",
      "Jonas Lössl\n",
      "Matt Macey\n",
      "Frankie Maguire\n",
      "Christian Marques\n",
      "David Martin\n",
      "Tawanda Maswanhise\n",
      "Luke Mbete-Tatu\n",
      "Thomas Mcgill\n",
      "Max Meyer\n",
      "Richard Nartey\n",
      "Ademipo Odubeko\n",
      "Jakub Ojrzynski\n",
      "Tyler Onyango\n",
      "William Osula\n",
      "Nicolás Otamendi\n",
      "Cole Palmer\n",
      "Taylor Perry\n",
      "Isaac Price\n",
      "Jesuran Rak Sakyi\n",
      "Lewis Richards\n",
      "Max Sanders\n",
      "Meritan Shabani\n",
      "Cheikh Sidya Diaby\n",
      "Ellis Simms\n",
      "Jason Steele\n",
      "Jed Steer\n",
      "Thanawat Suengchitthawon\n",
      "Crysencio Summerville\n",
      "Andreas Søndergaard\n",
      "Caleb Taylor\n",
      "Bobby Thomas\n",
      "Max Thompson\n",
      "James Trafford\n",
      "Nathan Trott\n",
      "Harry Tyrer\n",
      "Michael Verrips\n",
      "Christian Walton\n",
      "Danny Ward\n",
      "Jensen Weir\n",
      "Reece Welch\n",
      "Connor Wickham\n",
      "Ben Woodburn\n",
      "Sam Woods\n",
      "Karlo Ziger\n"
     ]
    }
   ],
   "source": [
    "for player in out['Playing Time'][( 'Unnamed: 1_level_0', 'Player')].values:\n",
    "    if player not in out['Standard'][( 'Unnamed: 1_level_0', 'Player')].values:\n",
    "        print(player)"
   ]
  },
  {
   "cell_type": "code",
   "execution_count": 28,
   "id": "acf7c3a3",
   "metadata": {},
   "outputs": [
    {
     "data": {
      "text/plain": [
       "MultiIndex([( 'Unnamed: 0_level_0',     'Rk'),\n",
       "            ( 'Unnamed: 1_level_0', 'Player'),\n",
       "            (          'player_id',       ''),\n",
       "            ( 'Unnamed: 2_level_0', 'Nation'),\n",
       "            ( 'Unnamed: 3_level_0',    'Pos'),\n",
       "            ( 'Unnamed: 4_level_0',  'Squad'),\n",
       "            ( 'Unnamed: 5_level_0',    'Age'),\n",
       "            ( 'Unnamed: 6_level_0',   'Born'),\n",
       "            (       'Playing Time',     'MP'),\n",
       "            (       'Playing Time', 'Starts'),\n",
       "            ...\n",
       "            ('Unnamed: 14_level_0',    'Crs'),\n",
       "            ('Unnamed: 15_level_0',    'Int'),\n",
       "            ('Unnamed: 16_level_0',   'TklW'),\n",
       "            (        'Performance',  'PKwon'),\n",
       "            (        'Performance',  'PKcon'),\n",
       "            (        'Performance',     'OG'),\n",
       "            (        'Performance',  'Recov'),\n",
       "            (       'Aerial Duels',    'Won'),\n",
       "            (       'Aerial Duels',   'Lost'),\n",
       "            (       'Aerial Duels',   'Won%')],\n",
       "           length=160)"
      ]
     },
     "execution_count": 28,
     "metadata": {},
     "output_type": "execute_result"
    }
   ],
   "source": [
    "df.columns"
   ]
  }
 ],
 "metadata": {
  "kernelspec": {
   "display_name": "Python 3",
   "language": "python",
   "name": "python3"
  },
  "language_info": {
   "codemirror_mode": {
    "name": "ipython",
    "version": 3
   },
   "file_extension": ".py",
   "mimetype": "text/x-python",
   "name": "python",
   "nbconvert_exporter": "python",
   "pygments_lexer": "ipython3",
   "version": "3.8.8"
  }
 },
 "nbformat": 4,
 "nbformat_minor": 5
}
