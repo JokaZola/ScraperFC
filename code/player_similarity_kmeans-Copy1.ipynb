{
 "cells": [
  {
   "cell_type": "code",
   "execution_count": 1,
   "id": "d2dcdf53-d4f4-43fe-87d7-a447b18469cd",
   "metadata": {},
   "outputs": [],
   "source": [
    "import numpy as np\n",
    "import pandas as pd\n",
    "import ScraperFC as sfc\n",
    "import traceback"
   ]
  },
  {
   "cell_type": "code",
   "execution_count": null,
   "id": "117509d4",
   "metadata": {},
   "outputs": [
    {
     "name": "stdout",
     "output_type": "stream",
     "text": [
      "20/442\r"
     ]
    },
    {
     "name": "stderr",
     "output_type": "stream",
     "text": [
      "Traceback (most recent call last):\n",
      "  File \"<ipython-input-4-e9837aa3e2dc>\", line 3, in <module>\n",
      "    per90, perc = scraper.scrape_complete_scouting_reports(year=2022, league='EPL')\n",
      "  File \"C:\\Users\\Owner\\Documents\\GitHub\\ScraperFC\\code\\ScraperFC\\FBRef.py\", line 981, in scrape_complete_scouting_reports\n",
      "    _, per90, percentiles = self.complete_report_from_player_link(player_link)\n",
      "  File \"C:\\Users\\Owner\\Documents\\GitHub\\ScraperFC\\code\\ScraperFC\\FBRef.py\", line 1010, in complete_report_from_player_link\n",
      "    self.driver.get(complete_report_link)\n",
      "  File \"C:\\Users\\Owner\\anaconda3\\lib\\site-packages\\selenium\\webdriver\\remote\\webdriver.py\", line 430, in get\n",
      "    self.execute(Command.GET, {'url': url})\n",
      "  File \"C:\\Users\\Owner\\anaconda3\\lib\\site-packages\\selenium\\webdriver\\remote\\webdriver.py\", line 416, in execute\n",
      "    response = self.command_executor.execute(driver_command, params)\n",
      "  File \"C:\\Users\\Owner\\anaconda3\\lib\\site-packages\\selenium\\webdriver\\remote\\remote_connection.py\", line 398, in execute\n",
      "    return self._request(command_info[0], url, body=data)\n",
      "  File \"C:\\Users\\Owner\\anaconda3\\lib\\site-packages\\selenium\\webdriver\\remote\\remote_connection.py\", line 420, in _request\n",
      "    resp = self._conn.request(method, url, body=body, headers=headers)\n",
      "  File \"C:\\Users\\Owner\\anaconda3\\lib\\site-packages\\urllib3\\request.py\", line 78, in request\n",
      "    return self.request_encode_body(\n",
      "  File \"C:\\Users\\Owner\\anaconda3\\lib\\site-packages\\urllib3\\request.py\", line 170, in request_encode_body\n",
      "    return self.urlopen(method, url, **extra_kw)\n",
      "  File \"C:\\Users\\Owner\\anaconda3\\lib\\site-packages\\urllib3\\poolmanager.py\", line 375, in urlopen\n",
      "    response = conn.urlopen(method, u.request_uri, **kw)\n",
      "  File \"C:\\Users\\Owner\\anaconda3\\lib\\site-packages\\urllib3\\connectionpool.py\", line 699, in urlopen\n",
      "    httplib_response = self._make_request(\n",
      "  File \"C:\\Users\\Owner\\anaconda3\\lib\\site-packages\\urllib3\\connectionpool.py\", line 445, in _make_request\n",
      "    six.raise_from(e, None)\n",
      "  File \"<string>\", line 3, in raise_from\n",
      "  File \"C:\\Users\\Owner\\anaconda3\\lib\\site-packages\\urllib3\\connectionpool.py\", line 440, in _make_request\n",
      "    httplib_response = conn.getresponse()\n",
      "  File \"C:\\Users\\Owner\\anaconda3\\lib\\http\\client.py\", line 1347, in getresponse\n",
      "    response.begin()\n",
      "  File \"C:\\Users\\Owner\\anaconda3\\lib\\http\\client.py\", line 307, in begin\n",
      "    version, status, reason = self._read_status()\n",
      "  File \"C:\\Users\\Owner\\anaconda3\\lib\\http\\client.py\", line 268, in _read_status\n",
      "    line = str(self.fp.readline(_MAXLINE + 1), \"iso-8859-1\")\n",
      "  File \"C:\\Users\\Owner\\anaconda3\\lib\\socket.py\", line 669, in readinto\n",
      "    return self._sock.recv_into(b)\n",
      "KeyboardInterrupt\n"
     ]
    }
   ],
   "source": [
    "scraper = sfc.FBRef()\n",
    "try:\n",
    "    per90, perc = scraper.scrape_complete_scouting_reports(year=2022, league='EPL')\n",
    "except:\n",
    "    traceback.print_exc()\n",
    "finally:\n",
    "    scraper.close()"
   ]
  },
  {
   "cell_type": "code",
   "execution_count": null,
   "id": "e65d40f4",
   "metadata": {},
   "outputs": [],
   "source": [
    "per90"
   ]
  }
 ],
 "metadata": {
  "kernelspec": {
   "display_name": "Python 3",
   "language": "python",
   "name": "python3"
  },
  "language_info": {
   "codemirror_mode": {
    "name": "ipython",
    "version": 3
   },
   "file_extension": ".py",
   "mimetype": "text/x-python",
   "name": "python",
   "nbconvert_exporter": "python",
   "pygments_lexer": "ipython3",
   "version": "3.8.8"
  }
 },
 "nbformat": 4,
 "nbformat_minor": 5
}
