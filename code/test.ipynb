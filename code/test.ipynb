{
 "cells": [
  {
   "cell_type": "code",
   "execution_count": 1,
   "metadata": {},
   "outputs": [],
   "source": [
    "import traceback\n",
    "import ScraperFC as sfc"
   ]
  },
  {
   "cell_type": "code",
   "execution_count": 3,
   "metadata": {
    "scrolled": false
   },
   "outputs": [
    {
     "name": "stdout",
     "output_type": "stream",
     "text": [
      "Scraping match data for match 17/306 in the 2020-2021 Bundesliga season from https://www.whoscored.com/Matches/1481039/Live/Germany-Bundesliga-2020-2021-VfB-Stuttgart-FC-Koln                                                                                                                                                                                                                                                                                                                                      \r"
     ]
    },
    {
     "name": "stderr",
     "output_type": "stream",
     "text": [
      "Traceback (most recent call last):\n",
      "  File \"C:\\Users\\Owner\\Documents\\GitHub\\ScraperFC\\code\\ScraperFC\\WhoScored.py\", line 158, in scrape_matches\n",
      "    match_data[link] = self.scrape_match(link)\n",
      "  File \"C:\\Users\\Owner\\Documents\\GitHub\\ScraperFC\\code\\ScraperFC\\WhoScored.py\", line 170, in scrape_match\n",
      "    self.driver.get(link)\n",
      "  File \"C:\\Users\\Owner\\anaconda3\\lib\\site-packages\\selenium\\webdriver\\remote\\webdriver.py\", line 333, in get\n",
      "    self.execute(Command.GET, {'url': url})\n",
      "  File \"C:\\Users\\Owner\\anaconda3\\lib\\site-packages\\selenium\\webdriver\\remote\\webdriver.py\", line 321, in execute\n",
      "    self.error_handler.check_response(response)\n",
      "  File \"C:\\Users\\Owner\\anaconda3\\lib\\site-packages\\selenium\\webdriver\\remote\\errorhandler.py\", line 242, in check_response\n",
      "    raise exception_class(message, screen, stacktrace)\n",
      "selenium.common.exceptions.WebDriverException: Message: chrome not reachable\n",
      "  (Session info: chrome=92.0.4515.107)\n",
      "\n",
      "\n",
      "During handling of the above exception, another exception occurred:\n",
      "\n",
      "Traceback (most recent call last):\n",
      "  File \"<ipython-input-3-e994dfa825c9>\", line 3, in <module>\n",
      "    _ = scraper.scrape_matches(2021, 'Bundesliga')\n",
      "  File \"C:\\Users\\Owner\\Documents\\GitHub\\ScraperFC\\code\\ScraperFC\\WhoScored.py\", line 160, in scrape_matches\n",
      "    self.close()\n",
      "  File \"C:\\Users\\Owner\\Documents\\GitHub\\ScraperFC\\code\\ScraperFC\\WhoScored.py\", line 40, in close\n",
      "    self.driver.close()\n",
      "  File \"C:\\Users\\Owner\\anaconda3\\lib\\site-packages\\selenium\\webdriver\\remote\\webdriver.py\", line 688, in close\n",
      "    self.execute(Command.CLOSE)\n",
      "  File \"C:\\Users\\Owner\\anaconda3\\lib\\site-packages\\selenium\\webdriver\\remote\\webdriver.py\", line 321, in execute\n",
      "    self.error_handler.check_response(response)\n",
      "  File \"C:\\Users\\Owner\\anaconda3\\lib\\site-packages\\selenium\\webdriver\\remote\\errorhandler.py\", line 242, in check_response\n",
      "    raise exception_class(message, screen, stacktrace)\n",
      "selenium.common.exceptions.WebDriverException: Message: chrome not reachable\n",
      "  (Session info: chrome=92.0.4515.107)\n",
      "\n"
     ]
    }
   ],
   "source": [
    "scraper = sfc.WhoScored()\n",
    "try:\n",
    "    _ = scraper.scrape_matches(2021, 'Bundesliga')\n",
    "except:\n",
    "    traceback.print_exc()\n",
    "# scraper.close()"
   ]
  },
  {
   "cell_type": "code",
   "execution_count": null,
   "metadata": {},
   "outputs": [],
   "source": []
  }
 ],
 "metadata": {
  "kernelspec": {
   "display_name": "Python 3",
   "language": "python",
   "name": "python3"
  },
  "language_info": {
   "codemirror_mode": {
    "name": "ipython",
    "version": 3
   },
   "file_extension": ".py",
   "mimetype": "text/x-python",
   "name": "python",
   "nbconvert_exporter": "python",
   "pygments_lexer": "ipython3",
   "version": "3.8.3"
  }
 },
 "nbformat": 4,
 "nbformat_minor": 4
}
