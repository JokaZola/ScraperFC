{
 "cells": [
  {
   "cell_type": "code",
   "execution_count": 1,
   "metadata": {},
   "outputs": [],
   "source": [
    "import ScraperFC as sfc\n",
    "import traceback\n",
    "import pandas as pd\n",
    "pd.options.display.max_columns = 50\n",
    "from IPython.display import clear_output"
   ]
  },
  {
   "cell_type": "code",
   "execution_count": 2,
   "metadata": {},
   "outputs": [],
   "source": [
    "# # scraper = sfc.Understat()\n",
    "# scraper = sfc.FBRef()\n",
    "\n",
    "# error = False\n",
    "# shapes = []\n",
    "# for yr in range(2018,2021): #1988,2021):\n",
    "#     for lg in ['EPL','La Liga','Bundesliga','Serie A','Ligue 1']:\n",
    "\n",
    "#         try:\n",
    "#         #     out = scraper.scrape_situations(2019, \"La Liga\")\n",
    "#         #     out = scraper.scrape_formations(2020, \"EPL\")\n",
    "#         #     out = scraper.scrape_game_states(2020, \"EPL\")\n",
    "\n",
    "#             out = scraper.scrape_matches(yr, lg)\n",
    "#             shapes.append(\n",
    "#                 [lg, yr, out.shape, out[\"Home Player Stats\"], out[\"Away Player Stats\"]]\n",
    "#             )\n",
    "#     #         scraper.close()\n",
    "#         except:  \n",
    "#             traceback.print_exc()\n",
    "#             scraper.close()\n",
    "#             error = True\n",
    "#             break\n",
    "\n",
    "#     if error:\n",
    "#         break\n",
    "#     scraper.close()"
   ]
  },
  {
   "cell_type": "code",
   "execution_count": 3,
   "metadata": {},
   "outputs": [],
   "source": [
    "scraper = sfc.FBRef()\n",
    "\n",
    "try:\n",
    "    out = scraper.scrape_matches(2021, \"La Liga\")\n",
    "    scraper.close()\n",
    "except:  \n",
    "    traceback.print_exc()\n",
    "    scraper.close()"
   ]
  },
  {
   "cell_type": "code",
   "execution_count": 4,
   "metadata": {},
   "outputs": [
    {
     "output_type": "execute_result",
     "data": {
      "text/plain": [
       "(380, 23)"
      ]
     },
     "metadata": {},
     "execution_count": 4
    }
   ],
   "source": [
    "out.shape"
   ]
  },
  {
   "cell_type": "code",
   "execution_count": 5,
   "metadata": {},
   "outputs": [
    {
     "output_type": "execute_result",
     "data": {
      "text/plain": [
       "0      Team Sheet       Eibar (4-4-2)            Eiba...\n",
       "1      Team Sheet       Granada (4-2-3-1)      Granad...\n",
       "2      Team Sheet       Cádiz (4-2-3-1)             C...\n",
       "3      Team Sheet       Alavés (3-5-2)      Alavés (3...\n",
       "4      Team Sheet       Valladolid (4-2-3-1) Valladol...\n",
       "                             ...                        \n",
       "375    Team Sheet       Celta Vigo (4-4-2◆) Celta Vig...\n",
       "376    Team Sheet       Elche (3-5-2)      Elche (3-5...\n",
       "377    Team Sheet       Valladolid (4-4-2) Valladolid...\n",
       "378    Team Sheet       Granada (3-4-3)   Granada (3-...\n",
       "379    Team Sheet       Sevilla (4-3-3)       Sevilla...\n",
       "Name: Home Player Stats, Length: 380, dtype: object"
      ]
     },
     "metadata": {},
     "execution_count": 5
    }
   ],
   "source": [
    "out[\"Home Player Stats\"]"
   ]
  },
  {
   "cell_type": "code",
   "execution_count": 6,
   "metadata": {},
   "outputs": [
    {
     "output_type": "execute_result",
     "data": {
      "text/plain": [
       "0      Team Sheet       Celta Vigo (4-3-3) Celta Vigo...\n",
       "1      Team Sheet       Athletic Club (4-2-3-1) Athle...\n",
       "2      Team Sheet       Osasuna (4-4-2)  Osasuna (4-4...\n",
       "3      Team Sheet       Betis (4-2-3-1) Betis (4-2-3-...\n",
       "4      Team Sheet       Real Sociedad (4-1-4-1) Real ...\n",
       "                             ...                        \n",
       "375    Team Sheet       Betis (4-2-3-1) Betis (4-2-3-...\n",
       "376    Team Sheet       Athletic Club (4-4-2) Athleti...\n",
       "377    Team Sheet       Atlético Madrid (3-5-2) Atlét...\n",
       "378    Team Sheet       Getafe (4-4-1-1)    Getafe (4...\n",
       "379    Team Sheet       Alavés (4-3-3)      Alavés (4...\n",
       "Name: Away Player Stats, Length: 380, dtype: object"
      ]
     },
     "metadata": {},
     "execution_count": 6
    }
   ],
   "source": [
    "out[\"Away Player Stats\"]"
   ]
  }
 ],
 "metadata": {
  "kernelspec": {
   "name": "python385jvsc74a57bd06f49874e70d65f3ad41d30fdc4564a87c0f9ee1662c3c57c6ddd6b2e48d08ee9",
   "display_name": "Python 3.8.5 64-bit"
  },
  "language_info": {
   "codemirror_mode": {
    "name": "ipython",
    "version": 3
   },
   "file_extension": ".py",
   "mimetype": "text/x-python",
   "name": "python",
   "nbconvert_exporter": "python",
   "pygments_lexer": "ipython3",
   "version": "3.8.5"
  }
 },
 "nbformat": 4,
 "nbformat_minor": 4
}