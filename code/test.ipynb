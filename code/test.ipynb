{
 "cells": [
  {
   "cell_type": "markdown",
   "metadata": {},
   "source": [
    "python setup.py sdist bdist_wheel\n",
    "\n",
    "twine upload --skip-existing dist/*"
   ]
  },
  {
   "cell_type": "code",
   "execution_count": null,
   "metadata": {},
   "outputs": [],
   "source": [
    "import pandas as pd\n",
    "import ScraperFC as sfc\n",
    "import traceback"
   ]
  },
  {
   "cell_type": "code",
   "execution_count": null,
   "metadata": {},
   "outputs": [],
   "source": [
    "scraper = sfc.Capology()\n",
    "broken = False\n",
    "for year in range(2014, 2023):\n",
    "    for league in ['EPL', 'La Liga', 'Serie A', 'Ligue 1', 'Bundesliga']:\n",
    "        try:\n",
    "            out = scraper.scrape_salaries(year=year, league=league, currency='usd')\n",
    "            print(league, year, out.shape)\n",
    "            if out.shape[0]==0:\n",
    "                broken=True\n",
    "                break\n",
    "        except:\n",
    "            traceback.print_exc()\n",
    "    if broken:\n",
    "        break\n",
    "# finally:\n",
    "scraper.close()"
   ]
  }
 ],
 "metadata": {
  "kernelspec": {
   "display_name": "Python 3",
   "language": "python",
   "name": "python3"
  },
  "language_info": {
   "codemirror_mode": {
    "name": "ipython",
    "version": 3
   },
   "file_extension": ".py",
   "mimetype": "text/x-python",
   "name": "python",
   "nbconvert_exporter": "python",
   "pygments_lexer": "ipython3",
   "version": "3.8.8"
  }
 },
 "nbformat": 4,
 "nbformat_minor": 4
}
