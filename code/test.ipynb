{
 "cells": [
  {
   "cell_type": "code",
   "execution_count": 29,
   "metadata": {},
   "outputs": [],
   "source": [
    "import ScraperFC as sfc\n",
    "import traceback\n",
    "import pandas as pd\n",
    "pd.options.display.max_columns = 50\n",
    "from IPython.display import clear_output"
   ]
  },
  {
   "cell_type": "code",
   "execution_count": 30,
   "metadata": {},
   "outputs": [],
   "source": [
    "# # scraper = sfc.Understat()\n",
    "# scraper = sfc.FBRef()\n",
    "\n",
    "# error = False\n",
    "# shapes = []\n",
    "# for yr in range(2018,2021): #1988,2021):\n",
    "#     for lg in ['EPL','La Liga','Bundesliga','Serie A','Ligue 1']:\n",
    "\n",
    "#         try:\n",
    "#         #     out = scraper.scrape_situations(2019, \"La Liga\")\n",
    "#         #     out = scraper.scrape_formations(2020, \"EPL\")\n",
    "#         #     out = scraper.scrape_game_states(2020, \"EPL\")\n",
    "\n",
    "#             out = scraper.scrape_matches(yr, lg)\n",
    "#             shapes.append(\n",
    "#                 [lg, yr, out.shape, out[\"Home Player Stats\"], out[\"Away Player Stats\"]]\n",
    "#             )\n",
    "#     #         scraper.close()\n",
    "#         except:  \n",
    "#             traceback.print_exc()\n",
    "#             scraper.close()\n",
    "#             error = True\n",
    "#             break\n",
    "\n",
    "#     if error:\n",
    "#         break\n",
    "#     scraper.close()"
   ]
  },
  {
   "cell_type": "code",
   "execution_count": 31,
   "metadata": {},
   "outputs": [],
   "source": [
    "scraper = sfc.FBRef()\n",
    "\n",
    "try:\n",
    "    out = scraper.scrape_matches(2021, \"La Liga\")\n",
    "    scraper.close()\n",
    "except:  \n",
    "    traceback.print_exc()\n",
    "    scraper.close()"
   ]
  },
  {
   "cell_type": "code",
   "execution_count": 32,
   "metadata": {},
   "outputs": [
    {
     "output_type": "execute_result",
     "data": {
      "text/plain": [
       "(380, 23)"
      ]
     },
     "metadata": {},
     "execution_count": 32
    }
   ],
   "source": [
    "out.shape"
   ]
  },
  {
   "cell_type": "code",
   "execution_count": 33,
   "metadata": {},
   "outputs": [
    {
     "output_type": "execute_result",
     "data": {
      "text/plain": [
       "0      Team Sheet       Manchester Utd (4-3-3) Manche...\n",
       "1      Team Sheet       Newcastle Utd (4-4-1-1) Newca...\n",
       "2      Team Sheet       Watford (4-2-2-2) Watford (4-...\n",
       "3      Team Sheet       Huddersfield (3-5-1-1) Hudder...\n",
       "4      Team Sheet       Bournemouth (4-4-2) Bournemou...\n",
       "                             ...                        \n",
       "375    Team Sheet       Fulham (4-2-3-1)          Ful...\n",
       "376    Team Sheet       Leicester City (4-1-4-1) Leic...\n",
       "377    Team Sheet       Burnley (4-4-2)        Burnle...\n",
       "378    Team Sheet       Tottenham (4-2-3-1◆) Tottenha...\n",
       "379    Team Sheet       Watford (4-4-2)   Watford (4-...\n",
       "Name: Home Player Stats, Length: 380, dtype: object"
      ]
     },
     "metadata": {},
     "execution_count": 33
    }
   ],
   "source": [
    "out[\"Home Player Stats\"]"
   ]
  },
  {
   "cell_type": "code",
   "execution_count": 34,
   "metadata": {},
   "outputs": [
    {
     "output_type": "execute_result",
     "data": {
      "text/plain": [
       "0      Team Sheet       Leicester City (4-2-3-1) Leic...\n",
       "1      Team Sheet       Tottenham (4-2-3-1) Tottenham...\n",
       "2      Team Sheet       Brighton (4-4-1-1) Brighton (...\n",
       "3      Team Sheet       Chelsea (4-3-3)    Chelsea (4...\n",
       "4      Team Sheet       Cardiff City (4-1-4-1) Cardif...\n",
       "                             ...                        \n",
       "375    Team Sheet       Newcastle Utd (3-4-3) Newcast...\n",
       "376    Team Sheet       Chelsea (4-3-3)    Chelsea (4...\n",
       "377    Team Sheet       Arsenal (4-2-3-1)        Arse...\n",
       "378    Team Sheet       Everton (4-2-3-1)   Everton (...\n",
       "379    Team Sheet       West Ham (4-2-3-1) West Ham (...\n",
       "Name: Away Player Stats, Length: 380, dtype: object"
      ]
     },
     "metadata": {},
     "execution_count": 34
    }
   ],
   "source": [
    "out[\"Away Player Stats\"]"
   ]
  }
 ],
 "metadata": {
  "kernelspec": {
   "name": "python385jvsc74a57bd06f49874e70d65f3ad41d30fdc4564a87c0f9ee1662c3c57c6ddd6b2e48d08ee9",
   "display_name": "Python 3.8.5 64-bit"
  },
  "language_info": {
   "codemirror_mode": {
    "name": "ipython",
    "version": 3
   },
   "file_extension": ".py",
   "mimetype": "text/x-python",
   "name": "python",
   "nbconvert_exporter": "python",
   "pygments_lexer": "ipython3",
   "version": "3.8.5"
  }
 },
 "nbformat": 4,
 "nbformat_minor": 4
}