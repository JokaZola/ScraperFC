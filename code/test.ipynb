{
 "cells": [
  {
   "cell_type": "markdown",
   "metadata": {},
   "source": [
    "python setup.py sdist bdist_wheel\n",
    "\n",
    "twine upload --skip-existing dist/*"
   ]
  },
  {
   "cell_type": "code",
   "execution_count": 1,
   "metadata": {},
   "outputs": [],
   "source": [
    "import pandas as pd\n",
    "import ScraperFC as sfc\n",
    "import traceback"
   ]
  },
  {
   "cell_type": "code",
   "execution_count": 2,
   "metadata": {},
   "outputs": [],
   "source": [
    "# scraper = sfc.WhoScored()\n",
    "# try:\n",
    "#     out = scraper.scrape_matches(year=2018, league='Argentina Liga Profesional')\n",
    "# except:\n",
    "#     traceback.print_exc()\n",
    "# finally:\n",
    "#     scraper.close()\n",
    "# assert 'matchId' in out[list(out.keys())[-1]].keys()"
   ]
  },
  {
   "cell_type": "code",
   "execution_count": 3,
   "metadata": {
    "scrolled": true
   },
   "outputs": [
    {
     "name": "stderr",
     "output_type": "stream",
     "text": [
      "[WDM] - \n",
      "\n",
      "[WDM] - ====== WebDriver manager ======\n",
      "[WDM] - Current google-chrome version is 95.0.4638\n",
      "[WDM] - Get LATEST driver version for 95.0.4638\n",
      "[WDM] - Driver [C:\\Users\\Owner\\.wdm\\drivers\\chromedriver\\win32\\95.0.4638.54\\chromedriver.exe] found in cache\n",
      "<ipython-input-3-e78d30214fbb>:14: DeprecationWarning: executable_path has been deprecated, please pass in a Service object\n",
      "  driver = webdriver.Chrome(ChromeDriverManager().install(), options=options)\n"
     ]
    },
    {
     "name": "stdout",
     "output_type": "stream",
     "text": [
      "Gathering alphabet segment links.\n",
      "Gathering player reports.\n",
      "DONE74/474\n"
     ]
    }
   ],
   "source": [
    "from   IPython.display import clear_output\n",
    "from   selenium import webdriver\n",
    "from   selenium.webdriver.chrome.options import Options\n",
    "from   selenium.webdriver.common.by import By\n",
    "from   selenium.webdriver.support import expected_conditions as EC\n",
    "from   selenium.webdriver.support.ui import WebDriverWait\n",
    "from   webdriver_manager.chrome import ChromeDriverManager\n",
    "import traceback\n",
    "\n",
    "\n",
    "options = Options()\n",
    "options.headless = True\n",
    "options.add_argument(\"window-size=1400,600\")\n",
    "driver = webdriver.Chrome(ChromeDriverManager().install(), options=options)\n",
    "# clear_output()\n",
    "\n",
    "\n",
    "try:\n",
    "    of_df, gk_df = pd.DataFrame(), pd.DataFrame()\n",
    "    driver.get('https://fbref.com/en/players/')\n",
    "    \n",
    "    # Get the links to the alphabet sections\n",
    "    print('Gathering alphabet segment links.')\n",
    "    alphabet_links = set()\n",
    "    for el in driver.find_elements(By.TAG_NAME, 'a'):\n",
    "        href = el.get_attribute('href')\n",
    "        if href and 'players' in href and len(el.text)==2:\n",
    "            alphabet_links.add(href)\n",
    "            \n",
    "    # Visit each of the alphabet links and get the player links\n",
    "    print('Gathering player reports.')\n",
    "    player_links = set()\n",
    "    cnt = 0\n",
    "    for link in alphabet_links:\n",
    "        cnt += 1\n",
    "        print('{} {}/{}'.format(link.split('/')[-2], cnt, len(alphabet_links)), end='\\r')\n",
    "        \n",
    "        if 'he' not in link.lower():\n",
    "            continue\n",
    "        \n",
    "        driver.get(link)\n",
    "        \n",
    "        \n",
    "        for el in driver.find_elements(By.TAG_NAME, 'p'):\n",
    "            try: # skip elements that's don't have an \"a\" tag child\n",
    "                href = el.find_element(By.TAG_NAME, 'a').get_attribute('href')\n",
    "            except:\n",
    "                continue\n",
    "            \n",
    "            if href and 'players' in href and link not in href and len(href.split('/'))>6: # Valid player link\n",
    "                # player_links.add(href)\n",
    "                if 'heung' not in href.lower() or 'son' not in href.lower():\n",
    "                    continue\n",
    "            \n",
    "                driver.get(href)\n",
    "                s = driver.page_source\n",
    "                if 'View Complete Scouting Report' in driver.page_source: # player with scout report\n",
    "                    comp_report_button = driver.find_element(\n",
    "                        By.XPATH, \n",
    "                        '/html/body/div[2]/div[6]/div[2]/div[1]/div/div/div[1]/div/ul/li[2]/a'\n",
    "                    )\n",
    "                    driver.execute_script('arguments[0].click()', comp_report_button)\n",
    "                    of_df = of_df.append(pd.Series({'url': href}), ignore_index=True)\n",
    "\n",
    "#                 try:\n",
    "#                     //*[@id=\"scout_summary_GK_sh\"]/div/ul/li[2]/a\n",
    "#                     //*[@id=\"scout_summary_FB_sh\"]/div/ul/li[2]/a\n",
    "#                     //*[@id=\"scout_summary_CB_sh\"]/div/ul/li[2]/a\n",
    "#                     //*[@id=\"scout_summary_MF_sh\"]/div/ul/li[2]/a\n",
    "#                     driver.find_element(By.XPATH, '//*[@id=\"scout_summary_AM_sh\"]/div/ul/li[2]/a').click()\n",
    "#                     //*[@id=\"scout_summary_FW_sh\"]/div/ul/li[2]/a\n",
    "#                 except:\n",
    "#                     continue\n",
    "#                 print(driver.current_url)\n",
    "#                 break\n",
    "\n",
    "#     # Visit each player's page and get their report\n",
    "#     print('Gathering player scouting reports.')\n",
    "#     for link in player_links:\n",
    "#         print(link)\n",
    "#         driver.get(link)\n",
    "#         comp_report_button = driver.find_element(By.XPATH, '//*[@id=\"scout_summary_AM_sh\"]/div/ul/li[2]/a')\n",
    "#         print(comp_report_button)\n",
    "#         break\n",
    "except:\n",
    "    traceback.print_exc()\n",
    "finally:\n",
    "    driver.close()\n",
    "    print('DONE')"
   ]
  },
  {
   "cell_type": "code",
   "execution_count": 4,
   "metadata": {},
   "outputs": [
    {
     "data": {
      "text/plain": [
       "(1, 1)"
      ]
     },
     "execution_count": 4,
     "metadata": {},
     "output_type": "execute_result"
    }
   ],
   "source": [
    "of_df.shape"
   ]
  },
  {
   "cell_type": "code",
   "execution_count": null,
   "metadata": {},
   "outputs": [],
   "source": []
  }
 ],
 "metadata": {
  "kernelspec": {
   "display_name": "Python 3",
   "language": "python",
   "name": "python3"
  },
  "language_info": {
   "codemirror_mode": {
    "name": "ipython",
    "version": 3
   },
   "file_extension": ".py",
   "mimetype": "text/x-python",
   "name": "python",
   "nbconvert_exporter": "python",
   "pygments_lexer": "ipython3",
   "version": "3.8.8"
  }
 },
 "nbformat": 4,
 "nbformat_minor": 4
}
