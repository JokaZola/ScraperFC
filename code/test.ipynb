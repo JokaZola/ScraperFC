{
 "cells": [
  {
   "cell_type": "code",
   "execution_count": 1,
   "metadata": {},
   "outputs": [],
   "source": [
    "import ScraperFC as sfc\n",
    "import traceback\n",
    "import pandas as pd\n",
    "pd.options.display.max_columns = 50\n",
    "from IPython.display import clear_output"
   ]
  },
  {
   "cell_type": "code",
   "execution_count": 2,
   "metadata": {},
   "outputs": [],
   "source": [
    "# scraper = sfc.Understat()\n",
    "# broke = False\n",
    "# shapes = list()\n",
    "# for yr in range(2017,2022):\n",
    "#     for lg in ['EPL','La Liga','Bundesliga','Serie A','Ligue 1']:\n",
    "\n",
    "#         try:\n",
    "#             out = scraper.scrape_shot_xy(yr, lg)\n",
    "#             shapes.append([yr, lg, len(out)])\n",
    "#         except:\n",
    "#             traceback.print_exc()\n",
    "#             scraper.close()\n",
    "#             broke = True\n",
    "#             break\n",
    "\n",
    "#     if broke:\n",
    "#         break\n",
    "# scraper.close()"
   ]
  },
  {
   "cell_type": "code",
   "execution_count": 3,
   "metadata": {
    "tags": []
   },
   "outputs": [
    {
     "output_type": "stream",
     "name": "stdout",
     "text": [
      "Failed scraping matches [].\nScraping saved to 2014-2015_Bundesliga_shot_xy.json\n"
     ]
    }
   ],
   "source": [
    "scraper = sfc.Understat()\n",
    "\n",
    "try:\n",
    "    out = scraper.scrape_shot_xy(2015, \"Bundesliga\", save=True)\n",
    "    scraper.close()\n",
    "except:  \n",
    "    traceback.print_exc()\n",
    "    scraper.close()"
   ]
  },
  {
   "cell_type": "code",
   "execution_count": 4,
   "metadata": {},
   "outputs": [
    {
     "output_type": "execute_result",
     "data": {
      "text/plain": [
       "'2014-2015_Bundesliga_shot_xy.json'"
      ]
     },
     "metadata": {},
     "execution_count": 4
    }
   ],
   "source": [
    "out"
   ]
  }
 ],
 "metadata": {
  "kernelspec": {
   "name": "python385jvsc74a57bd06f49874e70d65f3ad41d30fdc4564a87c0f9ee1662c3c57c6ddd6b2e48d08ee9",
   "display_name": "Python 3.8.5 64-bit"
  },
  "language_info": {
   "codemirror_mode": {
    "name": "ipython",
    "version": 3
   },
   "file_extension": ".py",
   "mimetype": "text/x-python",
   "name": "python",
   "nbconvert_exporter": "python",
   "pygments_lexer": "ipython3",
   "version": "3.8.5"
  }
 },
 "nbformat": 4,
 "nbformat_minor": 4
}