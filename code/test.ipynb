{
 "cells": [
  {
   "cell_type": "markdown",
   "metadata": {},
   "source": [
    "python setup.py sdist bdist_wheel\n",
    "\n",
    "twine upload --skip-existing dist/*"
   ]
  },
  {
   "cell_type": "code",
   "execution_count": 1,
   "metadata": {},
   "outputs": [],
   "source": [
    "import ScraperFC as sfc\n",
    "import traceback"
   ]
  },
  {
   "cell_type": "code",
   "execution_count": 4,
   "metadata": {},
   "outputs": [
    {
     "name": "stdout",
     "output_type": "stream",
     "text": [
      "Scraping match data for match 306/306 in the 2020-2021 Bundesliga II season from https://www.whoscored.com/Matches/1481344/Live/Germany-Bundesliga-II-2020-2021-Hannover-96-Fortuna-Duesseldorf                                                                                                                                                                                                                                                                                                                     \r"
     ]
    }
   ],
   "source": [
    "scraper = sfc.WhoScored()\n",
    "\n",
    "leagues = [\n",
    "    'EFL1', 'EFL2', 'Liga Nos', 'Eredivisie', 'Russian Premier League',\n",
    "    'Brasileirao', 'MLS', 'Super Lig', 'Jupiler Pro League', 'Bundesliga II'\n",
    "]\n",
    "year = 2021\n",
    "\n",
    "for league in leagues:\n",
    "    try:\n",
    "        _ = scraper.scrape_matches(year=year, league=league)\n",
    "    except:\n",
    "        traceback.print_exc()\n",
    "        break\n",
    "# finally:\n",
    "scraper.close()"
   ]
  }
 ],
 "metadata": {
  "kernelspec": {
   "display_name": "Python 3",
   "language": "python",
   "name": "python3"
  },
  "language_info": {
   "codemirror_mode": {
    "name": "ipython",
    "version": 3
   },
   "file_extension": ".py",
   "mimetype": "text/x-python",
   "name": "python",
   "nbconvert_exporter": "python",
   "pygments_lexer": "ipython3",
   "version": "3.8.8"
  }
 },
 "nbformat": 4,
 "nbformat_minor": 4
}
