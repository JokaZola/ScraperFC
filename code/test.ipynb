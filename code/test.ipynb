{
 "cells": [
  {
   "cell_type": "code",
   "execution_count": 1,
   "metadata": {},
   "outputs": [],
   "source": [
    "import traceback\n",
    "import ScraperFC as sfc"
   ]
  },
  {
   "cell_type": "code",
   "execution_count": null,
   "metadata": {
    "scrolled": false
   },
   "outputs": [
    {
     "name": "stdout",
     "output_type": "stream",
     "text": [
      "Scraping match data for match 157/380 in the 2013-2014 EPL season from https://www.whoscored.com/Matches/720854/Live/England-Premier-League-2013-2014-Stoke-Tottenham                                                                                                                                                                                                                                                                                                                                               \r"
     ]
    }
   ],
   "source": [
    "scraper = sfc.WhoScored()\n",
    "try:\n",
    "    _ = scraper.scrape_matches(2014, 'EPL')\n",
    "except:\n",
    "    traceback.print_exc()\n",
    "# scraper.close()"
   ]
  },
  {
   "cell_type": "code",
   "execution_count": null,
   "metadata": {},
   "outputs": [],
   "source": []
  }
 ],
 "metadata": {
  "kernelspec": {
   "display_name": "Python 3",
   "language": "python",
   "name": "python3"
  },
  "language_info": {
   "codemirror_mode": {
    "name": "ipython",
    "version": 3
   },
   "file_extension": ".py",
   "mimetype": "text/x-python",
   "name": "python",
   "nbconvert_exporter": "python",
   "pygments_lexer": "ipython3",
   "version": "3.8.3"
  }
 },
 "nbformat": 4,
 "nbformat_minor": 4
}
