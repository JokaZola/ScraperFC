{
 "cells": [
  {
   "cell_type": "markdown",
   "metadata": {},
   "source": [
    "python setup.py sdist bdist_wheel\n",
    "\n",
    "twine upload --skip-existing dist/*"
   ]
  },
  {
   "cell_type": "code",
   "execution_count": 1,
   "metadata": {},
   "outputs": [],
   "source": [
    "import pandas as pd\n",
    "import ScraperFC as sfc\n",
    "import traceback"
   ]
  },
  {
   "cell_type": "code",
   "execution_count": null,
   "metadata": {},
   "outputs": [],
   "source": [
    "year = 2020\n",
    "league = 'La Liga'"
   ]
  },
  {
   "cell_type": "code",
   "execution_count": null,
   "metadata": {},
   "outputs": [],
   "source": [
    "fbref_scraper = sfc.FBRef()\n",
    "try:\n",
    "    # Get matches dataframe from FBRef\n",
    "    filename = fbref_scraper.scrape_matches(year=year, league=league, save=True)\n",
    "except:\n",
    "    traceback.print_exc()\n",
    "fbref_scraper.close()"
   ]
  },
  {
   "cell_type": "code",
   "execution_count": null,
   "metadata": {},
   "outputs": [],
   "source": [
    "elo_scraper = sfc.ClubElo()\n",
    "# filename = '2017-2018_La Liga_FBRef_matches.csv'\n",
    "df = pd.read_csv(filename)\n",
    "clubelo_names = {\n",
    "    'Alavés':             'Alaves',\n",
    "    'Aston Villa':        'AstonVilla',\n",
    "    'Athletic Club':      'Bilbao',\n",
    "    'Atlético Madrid':    'Atletico',\n",
    "    'Cardiff City':       'Cardiff',\n",
    "    'Celta Vigo':         'Celta',\n",
    "    'Crystal Palace':     'CrystalPalace',\n",
    "    'Huddersfield Town':  'Huddersfield',\n",
    "    'La Coruña':          'Depor',\n",
    "    'Las Palmas':         'LasPalmas',\n",
    "    'Leeds United':       'Leeds',\n",
    "    'Leganés':            'Leganes',\n",
    "    'Leicester City':     'Leicester',\n",
    "    'Málaga':             'Malaga',\n",
    "    'Manchester City':    'ManCity',\n",
    "    'Manchester Utd':     'ManUnited',\n",
    "    'Newcastle Utd':      'Newcastle',\n",
    "    'Norwich City':       'Norwich',\n",
    "    'Rayo Vallecano':     'RayoVallecano',\n",
    "    'Real Madrid':        'RealMadrid',\n",
    "    'Real Sociedad':      'Sociedad',\n",
    "    'Sheffield Utd':      'SheffieldUnited',\n",
    "    'Stoke City':         'Stoke',\n",
    "    'Swansea City':       'Swansea',\n",
    "    'West Brom':          'WestBrom',\n",
    "    'West Ham':           'WestHam'\n",
    "}\n",
    "home_elos = list()\n",
    "away_elos = list()\n",
    "broken = False\n",
    "\n",
    "# Get ELO scores of all teams on match days\n",
    "for i in df.index:\n",
    "    print(i, end='\\r')\n",
    "    date = df.loc[i,'Date']\n",
    "    home_team = df.loc[i,'Home Team']\n",
    "    away_team = df.loc[i,'Away Team']\n",
    "#     print(home_team, away_team)\n",
    "\n",
    "    # Rename teams if needed. ClubElo uses different names than FBRef\n",
    "    if home_team in clubelo_names.keys():\n",
    "        home_team = clubelo_names[home_team]\n",
    "    if away_team in clubelo_names.keys():\n",
    "        away_team = clubelo_names[away_team]\n",
    "\n",
    "    home_elo = elo_scraper.scrape_team_on_date(date=date, team=home_team)\n",
    "    home_elos.append(home_elo)\n",
    "    away_elo = elo_scraper.scrape_team_on_date(date=date, team=away_team)\n",
    "    away_elos.append(away_elo)\n",
    "\n",
    "    if home_elo==-1 or away_elo==-1:\n",
    "        print('\\n', date, home_team, away_team)\n",
    "        broken = True\n",
    "        break\n",
    "        \n",
    "if not broken:\n",
    "    # Add ELO scores to dataframe\n",
    "    df['Home ELO'] = home_elos\n",
    "    df['Away ELO'] = away_elos\n",
    "\n",
    "    # Save\n",
    "    df.to_csv('{}_{}_w_ELO.csv'.format(league.replace(' ',''), year), index=False)"
   ]
  },
  {
   "cell_type": "code",
   "execution_count": null,
   "metadata": {},
   "outputs": [],
   "source": []
  }
 ],
 "metadata": {
  "kernelspec": {
   "display_name": "Python 3",
   "language": "python",
   "name": "python3"
  },
  "language_info": {
   "codemirror_mode": {
    "name": "ipython",
    "version": 3
   },
   "file_extension": ".py",
   "mimetype": "text/x-python",
   "name": "python",
   "nbconvert_exporter": "python",
   "pygments_lexer": "ipython3",
   "version": "3.8.3"
  }
 },
 "nbformat": 4,
 "nbformat_minor": 4
}
