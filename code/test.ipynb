{
 "cells": [
  {
   "cell_type": "code",
   "execution_count": null,
   "metadata": {},
   "outputs": [],
   "source": [
    "import ScraperFC as sfc\n",
    "import traceback\n",
    "import pandas as pd\n",
    "pd.options.display.max_columns = 50\n",
    "from IPython.display import clear_output\n",
    "import json"
   ]
  },
  {
   "cell_type": "code",
   "execution_count": null,
   "metadata": {
    "tags": []
   },
   "outputs": [],
   "source": [
    "# scraper = sfc.WhoScored()\n",
    "# try:\n",
    "#     out = scraper.get_match_links(2019, 'EPL')\n",
    "# except:  \n",
    "#     traceback.print_exc()\n",
    "# scraper.close()"
   ]
  },
  {
   "cell_type": "code",
   "execution_count": null,
   "metadata": {},
   "outputs": [],
   "source": [
    "scraper = sfc.FBRef()\n",
    "try:\n",
    "    out = scraper.scrape_misc(2019, 'Serie A', player=True, normalize=True)\n",
    "except:\n",
    "    traceback.print_exc()\n",
    "scraper.close()"
   ]
  },
  {
   "cell_type": "code",
   "execution_count": null,
   "metadata": {},
   "outputs": [],
   "source": [
    "out"
   ]
  },
  {
   "cell_type": "code",
   "execution_count": null,
   "metadata": {},
   "outputs": [],
   "source": [
    "# scraper = sfc.Understat()\n",
    "# broke = False\n",
    "# shapes = list()\n",
    "# for yr in range(2017,2022):\n",
    "#     for lg in ['EPL','La Liga','Bundesliga','Serie A','Ligue 1']:\n",
    "\n",
    "#         try:\n",
    "#             out = scraper.scrape_shot_xy(yr, lg)\n",
    "#             shapes.append([yr, lg, len(out)])\n",
    "#         except:\n",
    "#             traceback.print_exc()\n",
    "#             scraper.close()\n",
    "#             broke = True\n",
    "#             break\n",
    "\n",
    "#     if broke:\n",
    "#         break\n",
    "# scraper.close()"
   ]
  }
 ],
 "metadata": {
  "kernelspec": {
   "name": "python3",
   "display_name": "Python 3.8.5 64-bit"
  },
  "language_info": {
   "codemirror_mode": {
    "name": "ipython",
    "version": 3
   },
   "file_extension": ".py",
   "mimetype": "text/x-python",
   "name": "python",
   "nbconvert_exporter": "python",
   "pygments_lexer": "ipython3",
   "version": "3.8.5"
  },
  "interpreter": {
   "hash": "6f49874e70d65f3ad41d30fdc4564a87c0f9ee1662c3c57c6ddd6b2e48d08ee9"
  }
 },
 "nbformat": 4,
 "nbformat_minor": 4
}